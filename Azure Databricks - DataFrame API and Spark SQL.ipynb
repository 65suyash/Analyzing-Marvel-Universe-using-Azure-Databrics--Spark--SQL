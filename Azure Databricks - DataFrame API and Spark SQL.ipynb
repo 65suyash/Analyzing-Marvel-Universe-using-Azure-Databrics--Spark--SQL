{
 "cells": [
  {
   "cell_type": "markdown",
   "metadata": {
    "application/vnd.databricks.v1+cell": {
     "inputWidgets": {},
     "nuid": "1d57c289-7d89-4a34-9f7d-eeba15d1e9f3",
     "showTitle": false,
     "title": ""
    }
   },
   "source": [
    "# Lab: DataFrame API and Spark SQL\n",
    "\n",
    "\n",
    "## Social characteristics of the Marvel Universe\n",
    "\n",
    "In this lab you be working with a dataset that was creted about the Marvel Comics universe. The source data is a text file that was created with a graph analysis library outside of Spark, so the text file contains a lot of information and is not in a format that is easy to query with SQL. You are going to use it in this lab to practice data ingestion, manipulation and analysis using both the DataFrame API and Spark SQL. You can see more about the source data [here](http://bioinfo.uib.es/~joemiro/marvel.html).\n",
    "\n",
    "## Understanding the data file\n",
    "\n",
    "As mentioned above, the data file contains information about Marvel characters, publications, and which character appeared in each publication. There are two sections in the file:\n",
    "\n",
    "- Vertices (section begins in line 1 with a header in the form of `*Vertices 19428 6486`):\n",
    "    - Characters: lines 2-6487 in the format `6481 \"DETHSTRYK\"`, where `6481` is the node id and the name is within double quotes\n",
    "    - Publications: lines 6488-19429 in the same format as characters\n",
    "- Edgeslist (section begins in line 19430 with a header in the form of `*Edgeslist`): lines 19431 to the end of the file. The edge information is in the following format: `2 6488 6489 6490 6491 6492 6493 6494 6495 6496`. This represents a relationship between the character id (the first number) and the publication id's (all other numbers.)"
   ]
  },
  {
   "cell_type": "markdown",
   "metadata": {
    "application/vnd.databricks.v1+cell": {
     "inputWidgets": {},
     "nuid": "c07ba78b-9564-427a-81f8-ebe0e75c9e9f",
     "showTitle": false,
     "title": ""
    }
   },
   "source": [
    "Type `spark` to see the attributes of your `SparkSession`. The `SparkSession` is your entry point to using the DataFrame API."
   ]
  },
  {
   "cell_type": "code",
   "execution_count": 0,
   "metadata": {
    "application/vnd.databricks.v1+cell": {
     "inputWidgets": {},
     "nuid": "fee7c371-1f42-46cc-b820-a060046c6e48",
     "showTitle": false,
     "title": ""
    }
   },
   "outputs": [
    {
     "data": {
      "text/html": [
       "<style scoped>\n",
       "  .ansiout {\n",
       "    display: block;\n",
       "    unicode-bidi: embed;\n",
       "    white-space: pre-wrap;\n",
       "    word-wrap: break-word;\n",
       "    word-break: break-all;\n",
       "    font-family: \"Source Code Pro\", \"Menlo\", monospace;;\n",
       "    font-size: 13px;\n",
       "    color: #555;\n",
       "    margin-left: 4px;\n",
       "    line-height: 19px;\n",
       "  }\n",
       "</style>\n",
       "<div class=\"ansiout\">Out[1]: </div>"
      ]
     },
     "metadata": {
      "application/vnd.databricks.v1+output": {
       "addedWidgets": {},
       "arguments": {},
       "data": "<div class=\"ansiout\">Out[1]: </div>",
       "datasetInfos": [],
       "metadata": {},
       "removedWidgets": [],
       "type": "html"
      }
     },
     "output_type": "display_data"
    },
    {
     "data": {
      "text/html": [
       "\n",
       "            <div>\n",
       "                <p><b>SparkSession - hive</b></p>\n",
       "                \n",
       "        <div>\n",
       "            <p><b>SparkContext</b></p>\n",
       "\n",
       "            <p><a href=\"/?o=3819469734273948#setting/sparkui/0613-231119-q7scpys3/driver-3562225075423573034\">Spark UI</a></p>\n",
       "\n",
       "            <dl>\n",
       "              <dt>Version</dt>\n",
       "                <dd><code>v3.2.1</code></dd>\n",
       "              <dt>Master</dt>\n",
       "                <dd><code>spark://10.139.64.4:7077</code></dd>\n",
       "              <dt>AppName</dt>\n",
       "                <dd><code>Databricks Shell</code></dd>\n",
       "            </dl>\n",
       "        </div>\n",
       "        \n",
       "            </div>\n",
       "        "
      ]
     },
     "metadata": {
      "application/vnd.databricks.v1+output": {
       "addedWidgets": {},
       "arguments": {},
       "data": "\n            <div>\n                <p><b>SparkSession - hive</b></p>\n                \n        <div>\n            <p><b>SparkContext</b></p>\n\n            <p><a href=\"/?o=3819469734273948#setting/sparkui/0613-231119-q7scpys3/driver-3562225075423573034\">Spark UI</a></p>\n\n            <dl>\n              <dt>Version</dt>\n                <dd><code>v3.2.1</code></dd>\n              <dt>Master</dt>\n                <dd><code>spark://10.139.64.4:7077</code></dd>\n              <dt>AppName</dt>\n                <dd><code>Databricks Shell</code></dd>\n            </dl>\n        </div>\n        \n            </div>\n        ",
       "datasetInfos": [],
       "metadata": {},
       "removedWidgets": [],
       "textData": null,
       "type": "htmlSandbox"
      }
     },
     "output_type": "display_data"
    }
   ],
   "source": [
    "spark"
   ]
  },
  {
   "cell_type": "markdown",
   "metadata": {
    "application/vnd.databricks.v1+cell": {
     "inputWidgets": {},
     "nuid": "68c7300b-af7a-4a09-8e5b-83bdcd456e3a",
     "showTitle": false,
     "title": ""
    }
   },
   "source": [
    "Type `sc` to see the `SparkContext` attributes. The `SparkContext` is your entry point to the RDDs."
   ]
  },
  {
   "cell_type": "code",
   "execution_count": 0,
   "metadata": {
    "application/vnd.databricks.v1+cell": {
     "inputWidgets": {},
     "nuid": "675ecd39-a4b2-4ce7-9480-d1e93bccb89b",
     "showTitle": false,
     "title": ""
    }
   },
   "outputs": [
    {
     "data": {
      "text/html": [
       "<style scoped>\n",
       "  .ansiout {\n",
       "    display: block;\n",
       "    unicode-bidi: embed;\n",
       "    white-space: pre-wrap;\n",
       "    word-wrap: break-word;\n",
       "    word-break: break-all;\n",
       "    font-family: \"Source Code Pro\", \"Menlo\", monospace;;\n",
       "    font-size: 13px;\n",
       "    color: #555;\n",
       "    margin-left: 4px;\n",
       "    line-height: 19px;\n",
       "  }\n",
       "</style>\n",
       "<div class=\"ansiout\">Out[2]: </div>"
      ]
     },
     "metadata": {
      "application/vnd.databricks.v1+output": {
       "addedWidgets": {},
       "arguments": {},
       "data": "<div class=\"ansiout\">Out[2]: </div>",
       "datasetInfos": [],
       "metadata": {},
       "removedWidgets": [],
       "type": "html"
      }
     },
     "output_type": "display_data"
    },
    {
     "data": {
      "text/html": [
       "\n",
       "        <div>\n",
       "            <p><b>SparkContext</b></p>\n",
       "\n",
       "            <p><a href=\"/?o=3819469734273948#setting/sparkui/0613-231119-q7scpys3/driver-3562225075423573034\">Spark UI</a></p>\n",
       "\n",
       "            <dl>\n",
       "              <dt>Version</dt>\n",
       "                <dd><code>v3.2.1</code></dd>\n",
       "              <dt>Master</dt>\n",
       "                <dd><code>spark://10.139.64.4:7077</code></dd>\n",
       "              <dt>AppName</dt>\n",
       "                <dd><code>Databricks Shell</code></dd>\n",
       "            </dl>\n",
       "        </div>\n",
       "        "
      ]
     },
     "metadata": {
      "application/vnd.databricks.v1+output": {
       "addedWidgets": {},
       "arguments": {},
       "data": "\n        <div>\n            <p><b>SparkContext</b></p>\n\n            <p><a href=\"/?o=3819469734273948#setting/sparkui/0613-231119-q7scpys3/driver-3562225075423573034\">Spark UI</a></p>\n\n            <dl>\n              <dt>Version</dt>\n                <dd><code>v3.2.1</code></dd>\n              <dt>Master</dt>\n                <dd><code>spark://10.139.64.4:7077</code></dd>\n              <dt>AppName</dt>\n                <dd><code>Databricks Shell</code></dd>\n            </dl>\n        </div>\n        ",
       "datasetInfos": [],
       "metadata": {},
       "removedWidgets": [],
       "textData": null,
       "type": "htmlSandbox"
      }
     },
     "output_type": "display_data"
    }
   ],
   "source": [
    "sc"
   ]
  },
  {
   "cell_type": "markdown",
   "metadata": {
    "application/vnd.databricks.v1+cell": {
     "inputWidgets": {},
     "nuid": "52ba2a37-dce7-4657-84f0-e69727304091",
     "showTitle": false,
     "title": ""
    }
   },
   "source": [
    "## Read in the data.\n",
    "\n",
    "Although the data is a flat file with the structure explained earlier, you will be working with this file using [Spark DataFrame API and Spark SQL](https://spark.apache.org/docs/latest/sql-programming-guide.html).\n",
    "\n",
    "In the `00-setup-data-connection` workbook you created a mount point for the cloud location of the data.\n",
    "\n",
    "Load in the text file using [Generic load functions for SparkSQL](https://spark.apache.org/docs/2.3.0/sql-programming-guide.html#data-sources), and load the file `/mnt/course-datasets/marvel/porgat.txt`\n",
    "\n",
    "Create a DataFrame called `df_in` with a single field, where each record is the full text per line in the original text file."
   ]
  },
  {
   "cell_type": "code",
   "execution_count": 0,
   "metadata": {
    "application/vnd.databricks.v1+cell": {
     "inputWidgets": {},
     "nuid": "b10306fe-823e-48bb-9124-07495fa1b948",
     "showTitle": false,
     "title": ""
    }
   },
   "outputs": [
    {
     "data": {
      "text/html": [
       "<style scoped>\n",
       "  .ansiout {\n",
       "    display: block;\n",
       "    unicode-bidi: embed;\n",
       "    white-space: pre-wrap;\n",
       "    word-wrap: break-word;\n",
       "    word-break: break-all;\n",
       "    font-family: \"Source Code Pro\", \"Menlo\", monospace;;\n",
       "    font-size: 13px;\n",
       "    color: #555;\n",
       "    margin-left: 4px;\n",
       "    line-height: 19px;\n",
       "  }\n",
       "</style>\n",
       "<div class=\"ansiout\"></div>"
      ]
     },
     "metadata": {
      "application/vnd.databricks.v1+output": {
       "addedWidgets": {},
       "arguments": {},
       "data": "<div class=\"ansiout\"></div>",
       "datasetInfos": [],
       "metadata": {},
       "removedWidgets": [],
       "type": "html"
      }
     },
     "output_type": "display_data"
    }
   ],
   "source": [
    "path = \"/mnt/course-datasets/marvel/porgat.txt\"\n",
    "df_in = spark.read.text(path)"
   ]
  },
  {
   "cell_type": "markdown",
   "metadata": {
    "application/vnd.databricks.v1+cell": {
     "inputWidgets": {},
     "nuid": "034e6e92-8849-4192-82a2-2d9ceaeaf536",
     "showTitle": false,
     "title": ""
    }
   },
   "source": [
    "Look at the first few lines of `df_in`. What is the default field name?"
   ]
  },
  {
   "cell_type": "code",
   "execution_count": 0,
   "metadata": {
    "application/vnd.databricks.v1+cell": {
     "inputWidgets": {},
     "nuid": "7fe51fdd-5f6b-48e3-9fd5-a4e35743f6d5",
     "showTitle": false,
     "title": ""
    }
   },
   "outputs": [
    {
     "data": {
      "text/html": [
       "<style scoped>\n",
       "  .ansiout {\n",
       "    display: block;\n",
       "    unicode-bidi: embed;\n",
       "    white-space: pre-wrap;\n",
       "    word-wrap: break-word;\n",
       "    word-break: break-all;\n",
       "    font-family: \"Source Code Pro\", \"Menlo\", monospace;;\n",
       "    font-size: 13px;\n",
       "    color: #555;\n",
       "    margin-left: 4px;\n",
       "    line-height: 19px;\n",
       "  }\n",
       "</style>\n",
       "<div class=\"ansiout\">Out[4]: [Row(value=&#39;*Vertices 19428 6486&#39;),\n",
       " Row(value=&#39;1 &#34;24-HOUR MAN/EMMANUEL&#34;&#39;),\n",
       " Row(value=&#39;2 &#34;3-D MAN/CHARLES CHAN&#34;&#39;),\n",
       " Row(value=&#39;3 &#34;4-D MAN/MERCURIO&#34;&#39;),\n",
       " Row(value=&#39;4 &#34;8-BALL/&#34;&#39;),\n",
       " Row(value=&#39;5 &#34;A&#34;&#39;),\n",
       " Row(value=&#39;6 &#34;A\\&#39;YIN&#34;&#39;),\n",
       " Row(value=&#39;7 &#34;ABBOTT, JACK&#34;&#39;),\n",
       " Row(value=&#39;8 &#34;ABCISSA&#34;&#39;),\n",
       " Row(value=&#39;9 &#34;ABEL&#34;&#39;)]</div>"
      ]
     },
     "metadata": {
      "application/vnd.databricks.v1+output": {
       "addedWidgets": {},
       "arguments": {},
       "data": "<div class=\"ansiout\">Out[4]: [Row(value=&#39;*Vertices 19428 6486&#39;),\n Row(value=&#39;1 &#34;24-HOUR MAN/EMMANUEL&#34;&#39;),\n Row(value=&#39;2 &#34;3-D MAN/CHARLES CHAN&#34;&#39;),\n Row(value=&#39;3 &#34;4-D MAN/MERCURIO&#34;&#39;),\n Row(value=&#39;4 &#34;8-BALL/&#34;&#39;),\n Row(value=&#39;5 &#34;A&#34;&#39;),\n Row(value=&#39;6 &#34;A\\&#39;YIN&#34;&#39;),\n Row(value=&#39;7 &#34;ABBOTT, JACK&#34;&#39;),\n Row(value=&#39;8 &#34;ABCISSA&#34;&#39;),\n Row(value=&#39;9 &#34;ABEL&#34;&#39;)]</div>",
       "datasetInfos": [],
       "metadata": {},
       "removedWidgets": [],
       "type": "html"
      }
     },
     "output_type": "display_data"
    }
   ],
   "source": [
    "df_in.head(10)"
   ]
  },
  {
   "cell_type": "markdown",
   "metadata": {
    "application/vnd.databricks.v1+cell": {
     "inputWidgets": {},
     "nuid": "df79c431-9d13-4663-90a9-854842ad5973",
     "showTitle": false,
     "title": ""
    }
   },
   "source": [
    "Count the number of rows in `df_in`:"
   ]
  },
  {
   "cell_type": "code",
   "execution_count": 0,
   "metadata": {
    "application/vnd.databricks.v1+cell": {
     "inputWidgets": {},
     "nuid": "2ed4c20d-2b2b-4913-81b8-f12b8c876d63",
     "showTitle": false,
     "title": ""
    }
   },
   "outputs": [
    {
     "data": {
      "text/html": [
       "<style scoped>\n",
       "  .ansiout {\n",
       "    display: block;\n",
       "    unicode-bidi: embed;\n",
       "    white-space: pre-wrap;\n",
       "    word-wrap: break-word;\n",
       "    word-break: break-all;\n",
       "    font-family: \"Source Code Pro\", \"Menlo\", monospace;;\n",
       "    font-size: 13px;\n",
       "    color: #555;\n",
       "    margin-left: 4px;\n",
       "    line-height: 19px;\n",
       "  }\n",
       "</style>\n",
       "<div class=\"ansiout\">30520\n",
       "</div>"
      ]
     },
     "metadata": {
      "application/vnd.databricks.v1+output": {
       "addedWidgets": {},
       "arguments": {},
       "data": "<div class=\"ansiout\">30520\n</div>",
       "datasetInfos": [],
       "metadata": {},
       "removedWidgets": [],
       "type": "html"
      }
     },
     "output_type": "display_data"
    }
   ],
   "source": [
    "number_of_rows = df_in.count()\n",
    "print(number_of_rows)"
   ]
  },
  {
   "cell_type": "markdown",
   "metadata": {
    "application/vnd.databricks.v1+cell": {
     "inputWidgets": {},
     "nuid": "54ebe98b-9709-4d70-bf45-152a84da8b09",
     "showTitle": false,
     "title": ""
    }
   },
   "source": [
    "What happens to a DataFrame when you bring it into your Python session from the cluster? Get the first few records of the `df_in` and save it into an object in your Python session:"
   ]
  },
  {
   "cell_type": "code",
   "execution_count": 0,
   "metadata": {
    "application/vnd.databricks.v1+cell": {
     "inputWidgets": {},
     "nuid": "da3a0216-63fa-4b1c-a046-c9db8fe77a31",
     "showTitle": false,
     "title": ""
    }
   },
   "outputs": [
    {
     "data": {
      "text/html": [
       "<style scoped>\n",
       "  .ansiout {\n",
       "    display: block;\n",
       "    unicode-bidi: embed;\n",
       "    white-space: pre-wrap;\n",
       "    word-wrap: break-word;\n",
       "    word-break: break-all;\n",
       "    font-family: \"Source Code Pro\", \"Menlo\", monospace;;\n",
       "    font-size: 13px;\n",
       "    color: #555;\n",
       "    margin-left: 4px;\n",
       "    line-height: 19px;\n",
       "  }\n",
       "</style>\n",
       "<div class=\"ansiout\"></div>"
      ]
     },
     "metadata": {
      "application/vnd.databricks.v1+output": {
       "addedWidgets": {},
       "arguments": {},
       "data": "<div class=\"ansiout\"></div>",
       "datasetInfos": [],
       "metadata": {},
       "removedWidgets": [],
       "type": "html"
      }
     },
     "output_type": "display_data"
    }
   ],
   "source": [
    "databricks_lab = df_in.head(10)"
   ]
  },
  {
   "cell_type": "markdown",
   "metadata": {
    "application/vnd.databricks.v1+cell": {
     "inputWidgets": {},
     "nuid": "d3e0b94d-385f-4473-9dc4-739e117374ab",
     "showTitle": false,
     "title": ""
    }
   },
   "source": [
    "Explore the local Python object. How is it different than the DataFrame in the cluster? Read up on the [Pyspark Row object](https://spark.apache.org/docs/latest/api/python/pyspark.sql.html?highlight=row#pyspark.sql.Row)"
   ]
  },
  {
   "cell_type": "code",
   "execution_count": 0,
   "metadata": {
    "application/vnd.databricks.v1+cell": {
     "inputWidgets": {},
     "nuid": "c05782ff-e4cc-4cb9-825d-cd48321c844f",
     "showTitle": false,
     "title": ""
    }
   },
   "outputs": [
    {
     "data": {
      "text/html": [
       "<style scoped>\n",
       "  .ansiout {\n",
       "    display: block;\n",
       "    unicode-bidi: embed;\n",
       "    white-space: pre-wrap;\n",
       "    word-wrap: break-word;\n",
       "    word-break: break-all;\n",
       "    font-family: \"Source Code Pro\", \"Menlo\", monospace;;\n",
       "    font-size: 13px;\n",
       "    color: #555;\n",
       "    margin-left: 4px;\n",
       "    line-height: 19px;\n",
       "  }\n",
       "</style>\n",
       "<div class=\"ansiout\">[Row(value=&#39;*Vertices 19428 6486&#39;), Row(value=&#39;1 &#34;24-HOUR MAN/EMMANUEL&#34;&#39;), Row(value=&#39;2 &#34;3-D MAN/CHARLES CHAN&#34;&#39;), Row(value=&#39;3 &#34;4-D MAN/MERCURIO&#34;&#39;), Row(value=&#39;4 &#34;8-BALL/&#34;&#39;), Row(value=&#39;5 &#34;A&#34;&#39;), Row(value=&#39;6 &#34;A\\&#39;YIN&#34;&#39;), Row(value=&#39;7 &#34;ABBOTT, JACK&#34;&#39;), Row(value=&#39;8 &#34;ABCISSA&#34;&#39;), Row(value=&#39;9 &#34;ABEL&#34;&#39;)]\n",
       "</div>"
      ]
     },
     "metadata": {
      "application/vnd.databricks.v1+output": {
       "addedWidgets": {},
       "arguments": {},
       "data": "<div class=\"ansiout\">[Row(value=&#39;*Vertices 19428 6486&#39;), Row(value=&#39;1 &#34;24-HOUR MAN/EMMANUEL&#34;&#39;), Row(value=&#39;2 &#34;3-D MAN/CHARLES CHAN&#34;&#39;), Row(value=&#39;3 &#34;4-D MAN/MERCURIO&#34;&#39;), Row(value=&#39;4 &#34;8-BALL/&#34;&#39;), Row(value=&#39;5 &#34;A&#34;&#39;), Row(value=&#39;6 &#34;A\\&#39;YIN&#34;&#39;), Row(value=&#39;7 &#34;ABBOTT, JACK&#34;&#39;), Row(value=&#39;8 &#34;ABCISSA&#34;&#39;), Row(value=&#39;9 &#34;ABEL&#34;&#39;)]\n</div>",
       "datasetInfos": [],
       "metadata": {},
       "removedWidgets": [],
       "type": "html"
      }
     },
     "output_type": "display_data"
    }
   ],
   "source": [
    "print(databricks_lab)"
   ]
  },
  {
   "cell_type": "code",
   "execution_count": 0,
   "metadata": {
    "application/vnd.databricks.v1+cell": {
     "inputWidgets": {},
     "nuid": "472b46f0-6175-4c2d-afb4-f7929c83e6cc",
     "showTitle": false,
     "title": ""
    }
   },
   "outputs": [
    {
     "data": {
      "text/html": [
       "<style scoped>\n",
       "  .ansiout {\n",
       "    display: block;\n",
       "    unicode-bidi: embed;\n",
       "    white-space: pre-wrap;\n",
       "    word-wrap: break-word;\n",
       "    word-break: break-all;\n",
       "    font-family: \"Source Code Pro\", \"Menlo\", monospace;;\n",
       "    font-size: 13px;\n",
       "    color: #555;\n",
       "    margin-left: 4px;\n",
       "    line-height: 19px;\n",
       "  }\n",
       "</style>\n",
       "<div class=\"ansiout\">Out[13]: [Row(value=&#39;*Vertices 19428 6486&#39;),\n",
       " Row(value=&#39;1 &#34;24-HOUR MAN/EMMANUEL&#34;&#39;),\n",
       " Row(value=&#39;2 &#34;3-D MAN/CHARLES CHAN&#34;&#39;),\n",
       " Row(value=&#39;3 &#34;4-D MAN/MERCURIO&#34;&#39;),\n",
       " Row(value=&#39;4 &#34;8-BALL/&#34;&#39;),\n",
       " Row(value=&#39;5 &#34;A&#34;&#39;),\n",
       " Row(value=&#39;6 &#34;A\\&#39;YIN&#34;&#39;),\n",
       " Row(value=&#39;7 &#34;ABBOTT, JACK&#34;&#39;),\n",
       " Row(value=&#39;8 &#34;ABCISSA&#34;&#39;),\n",
       " Row(value=&#39;9 &#34;ABEL&#34;&#39;)]</div>"
      ]
     },
     "metadata": {
      "application/vnd.databricks.v1+output": {
       "addedWidgets": {},
       "arguments": {},
       "data": "<div class=\"ansiout\">Out[13]: [Row(value=&#39;*Vertices 19428 6486&#39;),\n Row(value=&#39;1 &#34;24-HOUR MAN/EMMANUEL&#34;&#39;),\n Row(value=&#39;2 &#34;3-D MAN/CHARLES CHAN&#34;&#39;),\n Row(value=&#39;3 &#34;4-D MAN/MERCURIO&#34;&#39;),\n Row(value=&#39;4 &#34;8-BALL/&#34;&#39;),\n Row(value=&#39;5 &#34;A&#34;&#39;),\n Row(value=&#39;6 &#34;A\\&#39;YIN&#34;&#39;),\n Row(value=&#39;7 &#34;ABBOTT, JACK&#34;&#39;),\n Row(value=&#39;8 &#34;ABCISSA&#34;&#39;),\n Row(value=&#39;9 &#34;ABEL&#34;&#39;)]</div>",
       "datasetInfos": [],
       "metadata": {},
       "removedWidgets": [],
       "type": "html"
      }
     },
     "output_type": "display_data"
    }
   ],
   "source": [
    "df_in.head(10)"
   ]
  },
  {
   "cell_type": "markdown",
   "metadata": {
    "application/vnd.databricks.v1+cell": {
     "inputWidgets": {},
     "nuid": "6cfe3aed-9ff4-4f13-8f62-b9082a359b17",
     "showTitle": false,
     "title": ""
    }
   },
   "source": [
    "## Arrange the data\n",
    "\n",
    "Since the data is in text format, at the end of this section you will have two DataFrames: one for nodes (both characters and publications) and one for edges (the relationship between characters and publications.)"
   ]
  },
  {
   "cell_type": "markdown",
   "metadata": {
    "application/vnd.databricks.v1+cell": {
     "inputWidgets": {},
     "nuid": "1e7e4acf-6fc2-4e35-9cc2-83a26acac522",
     "showTitle": false,
     "title": ""
    }
   },
   "source": [
    "The DataFrame API and SparkSQL functions are in the [pyspark.sql.functions](https://spark.apache.org/docs/latest/api/python/pyspark.sql.html#module-pyspark.sql.functions) library. You can import all of the functions or specific functions as needed.\n",
    "\n",
    "Start by importing the `monotonically_increasing_id` function:"
   ]
  },
  {
   "cell_type": "code",
   "execution_count": 0,
   "metadata": {
    "application/vnd.databricks.v1+cell": {
     "inputWidgets": {},
     "nuid": "f325d376-bceb-4985-b3cf-cf24515d6a10",
     "showTitle": false,
     "title": ""
    }
   },
   "outputs": [
    {
     "data": {
      "text/html": [
       "<style scoped>\n",
       "  .ansiout {\n",
       "    display: block;\n",
       "    unicode-bidi: embed;\n",
       "    white-space: pre-wrap;\n",
       "    word-wrap: break-word;\n",
       "    word-break: break-all;\n",
       "    font-family: \"Source Code Pro\", \"Menlo\", monospace;;\n",
       "    font-size: 13px;\n",
       "    color: #555;\n",
       "    margin-left: 4px;\n",
       "    line-height: 19px;\n",
       "  }\n",
       "</style>\n",
       "<div class=\"ansiout\"></div>"
      ]
     },
     "metadata": {
      "application/vnd.databricks.v1+output": {
       "addedWidgets": {},
       "arguments": {},
       "data": "<div class=\"ansiout\"></div>",
       "datasetInfos": [],
       "metadata": {},
       "removedWidgets": [],
       "type": "html"
      }
     },
     "output_type": "display_data"
    }
   ],
   "source": [
    "from pyspark.sql.functions import monotonically_increasing_id"
   ]
  },
  {
   "cell_type": "markdown",
   "metadata": {
    "application/vnd.databricks.v1+cell": {
     "inputWidgets": {},
     "nuid": "36c9c9bf-0463-4c11-8d6e-0e11802f8b1d",
     "showTitle": false,
     "title": ""
    }
   },
   "source": [
    "Create a new dataframe called `df_in_idx` where you will add a new field called `idx` that uses the `monotonically_increasing_id` to add a unique incremental numeric index to each record. You should read more about the function and understand how it works."
   ]
  },
  {
   "cell_type": "code",
   "execution_count": 0,
   "metadata": {
    "application/vnd.databricks.v1+cell": {
     "inputWidgets": {},
     "nuid": "999af432-2282-4df4-9294-19be936036e8",
     "showTitle": false,
     "title": ""
    }
   },
   "outputs": [
    {
     "data": {
      "text/html": [
       "<style scoped>\n",
       "  .ansiout {\n",
       "    display: block;\n",
       "    unicode-bidi: embed;\n",
       "    white-space: pre-wrap;\n",
       "    word-wrap: break-word;\n",
       "    word-break: break-all;\n",
       "    font-family: \"Source Code Pro\", \"Menlo\", monospace;;\n",
       "    font-size: 13px;\n",
       "    color: #555;\n",
       "    margin-left: 4px;\n",
       "    line-height: 19px;\n",
       "  }\n",
       "</style>\n",
       "<div class=\"ansiout\"></div>"
      ]
     },
     "metadata": {
      "application/vnd.databricks.v1+output": {
       "addedWidgets": {},
       "arguments": {},
       "data": "<div class=\"ansiout\"></div>",
       "datasetInfos": [],
       "metadata": {},
       "removedWidgets": [],
       "type": "html"
      }
     },
     "output_type": "display_data"
    }
   ],
   "source": [
    "df_in_idx = df_in.withColumn(\"idx\", monotonically_increasing_id())"
   ]
  },
  {
   "cell_type": "markdown",
   "metadata": {
    "application/vnd.databricks.v1+cell": {
     "inputWidgets": {},
     "nuid": "8eca6063-4288-4d5a-89a7-a7dc2d7a31d3",
     "showTitle": false,
     "title": ""
    }
   },
   "source": [
    "See your new dataframe, you will see the new column."
   ]
  },
  {
   "cell_type": "code",
   "execution_count": 0,
   "metadata": {
    "application/vnd.databricks.v1+cell": {
     "inputWidgets": {},
     "nuid": "4cb15f24-1e97-45fe-80bd-f4e44e788a88",
     "showTitle": false,
     "title": ""
    }
   },
   "outputs": [
    {
     "data": {
      "text/html": [
       "<style scoped>\n",
       "  .ansiout {\n",
       "    display: block;\n",
       "    unicode-bidi: embed;\n",
       "    white-space: pre-wrap;\n",
       "    word-wrap: break-word;\n",
       "    word-break: break-all;\n",
       "    font-family: \"Source Code Pro\", \"Menlo\", monospace;;\n",
       "    font-size: 13px;\n",
       "    color: #555;\n",
       "    margin-left: 4px;\n",
       "    line-height: 19px;\n",
       "  }\n",
       "</style>\n",
       "<div class=\"ansiout\">+--------------------+---+\n",
       "               value|idx|\n",
       "+--------------------+---+\n",
       "*Vertices 19428 6486|  0|\n",
       "1 &#34;24-HOUR MAN/EM...|  1|\n",
       "2 &#34;3-D MAN/CHARLE...|  2|\n",
       "3 &#34;4-D MAN/MERCURIO&#34;|  3|\n",
       "         4 &#34;8-BALL/&#34;|  4|\n",
       "               5 &#34;A&#34;|  5|\n",
       "           6 &#34;A&#39;YIN&#34;|  6|\n",
       "    7 &#34;ABBOTT, JACK&#34;|  7|\n",
       "         8 &#34;ABCISSA&#34;|  8|\n",
       "            9 &#34;ABEL&#34;|  9|\n",
       "+--------------------+---+\n",
       "only showing top 10 rows\n",
       "\n",
       "</div>"
      ]
     },
     "metadata": {
      "application/vnd.databricks.v1+output": {
       "addedWidgets": {},
       "arguments": {},
       "data": "<div class=\"ansiout\">+--------------------+---+\n|               value|idx|\n+--------------------+---+\n|*Vertices 19428 6486|  0|\n|1 &#34;24-HOUR MAN/EM...|  1|\n|2 &#34;3-D MAN/CHARLE...|  2|\n|3 &#34;4-D MAN/MERCURIO&#34;|  3|\n|         4 &#34;8-BALL/&#34;|  4|\n|               5 &#34;A&#34;|  5|\n|           6 &#34;A&#39;YIN&#34;|  6|\n|    7 &#34;ABBOTT, JACK&#34;|  7|\n|         8 &#34;ABCISSA&#34;|  8|\n|            9 &#34;ABEL&#34;|  9|\n+--------------------+---+\nonly showing top 10 rows\n\n</div>",
       "datasetInfos": [],
       "metadata": {},
       "removedWidgets": [],
       "type": "html"
      }
     },
     "output_type": "display_data"
    }
   ],
   "source": [
    "df_in_idx.show(10)"
   ]
  },
  {
   "cell_type": "code",
   "execution_count": 0,
   "metadata": {
    "application/vnd.databricks.v1+cell": {
     "inputWidgets": {},
     "nuid": "72934090-bd35-4ba2-911d-bf711400987b",
     "showTitle": false,
     "title": ""
    }
   },
   "outputs": [
    {
     "data": {
      "text/html": [
       "<style scoped>\n",
       "  .ansiout {\n",
       "    display: block;\n",
       "    unicode-bidi: embed;\n",
       "    white-space: pre-wrap;\n",
       "    word-wrap: break-word;\n",
       "    word-break: break-all;\n",
       "    font-family: \"Source Code Pro\", \"Menlo\", monospace;;\n",
       "    font-size: 13px;\n",
       "    color: #555;\n",
       "    margin-left: 4px;\n",
       "    line-height: 19px;\n",
       "  }\n",
       "</style>\n",
       "<div class=\"ansiout\">Out[18]: [Row(value=&#39;*Vertices 19428 6486&#39;, idx=0),\n",
       " Row(value=&#39;1 &#34;24-HOUR MAN/EMMANUEL&#34;&#39;, idx=1),\n",
       " Row(value=&#39;2 &#34;3-D MAN/CHARLES CHAN&#34;&#39;, idx=2),\n",
       " Row(value=&#39;3 &#34;4-D MAN/MERCURIO&#34;&#39;, idx=3),\n",
       " Row(value=&#39;4 &#34;8-BALL/&#34;&#39;, idx=4),\n",
       " Row(value=&#39;5 &#34;A&#34;&#39;, idx=5),\n",
       " Row(value=&#39;6 &#34;A\\&#39;YIN&#34;&#39;, idx=6),\n",
       " Row(value=&#39;7 &#34;ABBOTT, JACK&#34;&#39;, idx=7),\n",
       " Row(value=&#39;8 &#34;ABCISSA&#34;&#39;, idx=8),\n",
       " Row(value=&#39;9 &#34;ABEL&#34;&#39;, idx=9)]</div>"
      ]
     },
     "metadata": {
      "application/vnd.databricks.v1+output": {
       "addedWidgets": {},
       "arguments": {},
       "data": "<div class=\"ansiout\">Out[18]: [Row(value=&#39;*Vertices 19428 6486&#39;, idx=0),\n Row(value=&#39;1 &#34;24-HOUR MAN/EMMANUEL&#34;&#39;, idx=1),\n Row(value=&#39;2 &#34;3-D MAN/CHARLES CHAN&#34;&#39;, idx=2),\n Row(value=&#39;3 &#34;4-D MAN/MERCURIO&#34;&#39;, idx=3),\n Row(value=&#39;4 &#34;8-BALL/&#34;&#39;, idx=4),\n Row(value=&#39;5 &#34;A&#34;&#39;, idx=5),\n Row(value=&#39;6 &#34;A\\&#39;YIN&#34;&#39;, idx=6),\n Row(value=&#39;7 &#34;ABBOTT, JACK&#34;&#39;, idx=7),\n Row(value=&#39;8 &#34;ABCISSA&#34;&#39;, idx=8),\n Row(value=&#39;9 &#34;ABEL&#34;&#39;, idx=9)]</div>",
       "datasetInfos": [],
       "metadata": {},
       "removedWidgets": [],
       "type": "html"
      }
     },
     "output_type": "display_data"
    }
   ],
   "source": [
    "df_in_idx.head(10)"
   ]
  },
  {
   "cell_type": "markdown",
   "metadata": {
    "application/vnd.databricks.v1+cell": {
     "inputWidgets": {},
     "nuid": "c33757db-25e3-4ef9-a1ca-3acf10e2a254",
     "showTitle": false,
     "title": ""
    }
   },
   "source": [
    "We know from the data file that the two headers are in lines 1 and 19430, and we want those lines (records) from the data. Create a new dataframe called `df_idx_no_hdr` where using a sql query, you select all records but those with the header.\n",
    "\n",
    "Before you can run a SparkSQL query, you need to \"register\" a dataframe."
   ]
  },
  {
   "cell_type": "code",
   "execution_count": 0,
   "metadata": {
    "application/vnd.databricks.v1+cell": {
     "inputWidgets": {},
     "nuid": "ce1f6ee3-da37-46bc-808e-289d72b27d8b",
     "showTitle": false,
     "title": ""
    }
   },
   "outputs": [
    {
     "data": {
      "text/html": [
       "<style scoped>\n",
       "  .ansiout {\n",
       "    display: block;\n",
       "    unicode-bidi: embed;\n",
       "    white-space: pre-wrap;\n",
       "    word-wrap: break-word;\n",
       "    word-break: break-all;\n",
       "    font-family: \"Source Code Pro\", \"Menlo\", monospace;;\n",
       "    font-size: 13px;\n",
       "    color: #555;\n",
       "    margin-left: 4px;\n",
       "    line-height: 19px;\n",
       "  }\n",
       "</style>\n",
       "<div class=\"ansiout\"></div>"
      ]
     },
     "metadata": {
      "application/vnd.databricks.v1+output": {
       "addedWidgets": {},
       "arguments": {},
       "data": "<div class=\"ansiout\"></div>",
       "datasetInfos": [],
       "metadata": {},
       "removedWidgets": [],
       "type": "html"
      }
     },
     "output_type": "display_data"
    }
   ],
   "source": [
    "# register the view\n",
    "df_in_idx.createOrReplaceTempView(\"df_in_idx\")\n",
    "\n",
    "# run a SQL query\n",
    "df_idx_no_hdr = spark.sql('select * from df_in_idx where idx !=0 and idx != 19429')"
   ]
  },
  {
   "cell_type": "markdown",
   "metadata": {
    "application/vnd.databricks.v1+cell": {
     "inputWidgets": {},
     "nuid": "34e80108-b7c5-4106-9342-e988af80c5d1",
     "showTitle": false,
     "title": ""
    }
   },
   "source": [
    "Check that the header rows were removed:"
   ]
  },
  {
   "cell_type": "code",
   "execution_count": 0,
   "metadata": {
    "application/vnd.databricks.v1+cell": {
     "inputWidgets": {},
     "nuid": "57f4a358-17fb-4bd9-bbd1-7ce2b927ca31",
     "showTitle": false,
     "title": ""
    }
   },
   "outputs": [
    {
     "data": {
      "text/html": [
       "<style scoped>\n",
       "  .ansiout {\n",
       "    display: block;\n",
       "    unicode-bidi: embed;\n",
       "    white-space: pre-wrap;\n",
       "    word-wrap: break-word;\n",
       "    word-break: break-all;\n",
       "    font-family: \"Source Code Pro\", \"Menlo\", monospace;;\n",
       "    font-size: 13px;\n",
       "    color: #555;\n",
       "    margin-left: 4px;\n",
       "    line-height: 19px;\n",
       "  }\n",
       "</style>\n",
       "<div class=\"ansiout\">Out[22]: [Row(value=&#39;1 &#34;24-HOUR MAN/EMMANUEL&#34;&#39;, idx=1),\n",
       " Row(value=&#39;2 &#34;3-D MAN/CHARLES CHAN&#34;&#39;, idx=2),\n",
       " Row(value=&#39;3 &#34;4-D MAN/MERCURIO&#34;&#39;, idx=3),\n",
       " Row(value=&#39;4 &#34;8-BALL/&#34;&#39;, idx=4),\n",
       " Row(value=&#39;5 &#34;A&#34;&#39;, idx=5),\n",
       " Row(value=&#39;6 &#34;A\\&#39;YIN&#34;&#39;, idx=6),\n",
       " Row(value=&#39;7 &#34;ABBOTT, JACK&#34;&#39;, idx=7),\n",
       " Row(value=&#39;8 &#34;ABCISSA&#34;&#39;, idx=8),\n",
       " Row(value=&#39;9 &#34;ABEL&#34;&#39;, idx=9),\n",
       " Row(value=&#39;10 &#34;ABOMINATION/EMIL BLO&#34;&#39;, idx=10)]</div>"
      ]
     },
     "metadata": {
      "application/vnd.databricks.v1+output": {
       "addedWidgets": {},
       "arguments": {},
       "data": "<div class=\"ansiout\">Out[22]: [Row(value=&#39;1 &#34;24-HOUR MAN/EMMANUEL&#34;&#39;, idx=1),\n Row(value=&#39;2 &#34;3-D MAN/CHARLES CHAN&#34;&#39;, idx=2),\n Row(value=&#39;3 &#34;4-D MAN/MERCURIO&#34;&#39;, idx=3),\n Row(value=&#39;4 &#34;8-BALL/&#34;&#39;, idx=4),\n Row(value=&#39;5 &#34;A&#34;&#39;, idx=5),\n Row(value=&#39;6 &#34;A\\&#39;YIN&#34;&#39;, idx=6),\n Row(value=&#39;7 &#34;ABBOTT, JACK&#34;&#39;, idx=7),\n Row(value=&#39;8 &#34;ABCISSA&#34;&#39;, idx=8),\n Row(value=&#39;9 &#34;ABEL&#34;&#39;, idx=9),\n Row(value=&#39;10 &#34;ABOMINATION/EMIL BLO&#34;&#39;, idx=10)]</div>",
       "datasetInfos": [],
       "metadata": {},
       "removedWidgets": [],
       "type": "html"
      }
     },
     "output_type": "display_data"
    }
   ],
   "source": [
    "df_idx_no_hdr.head(10)"
   ]
  },
  {
   "cell_type": "markdown",
   "metadata": {
    "application/vnd.databricks.v1+cell": {
     "inputWidgets": {},
     "nuid": "a8ac8b34-2b49-4de1-810f-425d9e126309",
     "showTitle": false,
     "title": ""
    }
   },
   "source": [
    "Now you will create three separate dataframes: a `characters` one, a `publications` one, and a `relationships` one. You know the original line indices that partition the file, so use those. You have the `idx` field to use."
   ]
  },
  {
   "cell_type": "code",
   "execution_count": 0,
   "metadata": {
    "application/vnd.databricks.v1+cell": {
     "inputWidgets": {},
     "nuid": "ba952830-d53d-414c-b4d8-3989d13af8cb",
     "showTitle": false,
     "title": ""
    }
   },
   "outputs": [
    {
     "data": {
      "text/html": [
       "<style scoped>\n",
       "  .ansiout {\n",
       "    display: block;\n",
       "    unicode-bidi: embed;\n",
       "    white-space: pre-wrap;\n",
       "    word-wrap: break-word;\n",
       "    word-break: break-all;\n",
       "    font-family: \"Source Code Pro\", \"Menlo\", monospace;;\n",
       "    font-size: 13px;\n",
       "    color: #555;\n",
       "    margin-left: 4px;\n",
       "    line-height: 19px;\n",
       "  }\n",
       "</style>\n",
       "<div class=\"ansiout\"></div>"
      ]
     },
     "metadata": {
      "application/vnd.databricks.v1+output": {
       "addedWidgets": {},
       "arguments": {},
       "data": "<div class=\"ansiout\"></div>",
       "datasetInfos": [],
       "metadata": {},
       "removedWidgets": [],
       "type": "html"
      }
     },
     "output_type": "display_data"
    }
   ],
   "source": [
    "from pyspark.sql.functions import col\n"
   ]
  },
  {
   "cell_type": "code",
   "execution_count": 0,
   "metadata": {
    "application/vnd.databricks.v1+cell": {
     "inputWidgets": {},
     "nuid": "54ed05eb-cdd3-4054-8d31-973500ce9f65",
     "showTitle": false,
     "title": ""
    }
   },
   "outputs": [
    {
     "data": {
      "text/html": [
       "<style scoped>\n",
       "  .ansiout {\n",
       "    display: block;\n",
       "    unicode-bidi: embed;\n",
       "    white-space: pre-wrap;\n",
       "    word-wrap: break-word;\n",
       "    word-break: break-all;\n",
       "    font-family: \"Source Code Pro\", \"Menlo\", monospace;;\n",
       "    font-size: 13px;\n",
       "    color: #555;\n",
       "    margin-left: 4px;\n",
       "    line-height: 19px;\n",
       "  }\n",
       "</style>\n",
       "<div class=\"ansiout\">+--------------------+---+\n",
       "               value|idx|\n",
       "+--------------------+---+\n",
       "1 &#34;24-HOUR MAN/EM...|  1|\n",
       "2 &#34;3-D MAN/CHARLE...|  2|\n",
       "3 &#34;4-D MAN/MERCURIO&#34;|  3|\n",
       "         4 &#34;8-BALL/&#34;|  4|\n",
       "               5 &#34;A&#34;|  5|\n",
       "           6 &#34;A&#39;YIN&#34;|  6|\n",
       "    7 &#34;ABBOTT, JACK&#34;|  7|\n",
       "         8 &#34;ABCISSA&#34;|  8|\n",
       "            9 &#34;ABEL&#34;|  9|\n",
       "10 &#34;ABOMINATION/E...| 10|\n",
       "+--------------------+---+\n",
       "only showing top 10 rows\n",
       "\n",
       "</div>"
      ]
     },
     "metadata": {
      "application/vnd.databricks.v1+output": {
       "addedWidgets": {},
       "arguments": {},
       "data": "<div class=\"ansiout\">+--------------------+---+\n|               value|idx|\n+--------------------+---+\n|1 &#34;24-HOUR MAN/EM...|  1|\n|2 &#34;3-D MAN/CHARLE...|  2|\n|3 &#34;4-D MAN/MERCURIO&#34;|  3|\n|         4 &#34;8-BALL/&#34;|  4|\n|               5 &#34;A&#34;|  5|\n|           6 &#34;A&#39;YIN&#34;|  6|\n|    7 &#34;ABBOTT, JACK&#34;|  7|\n|         8 &#34;ABCISSA&#34;|  8|\n|            9 &#34;ABEL&#34;|  9|\n|10 &#34;ABOMINATION/E...| 10|\n+--------------------+---+\nonly showing top 10 rows\n\n</div>",
       "datasetInfos": [],
       "metadata": {},
       "removedWidgets": [],
       "type": "html"
      }
     },
     "output_type": "display_data"
    }
   ],
   "source": [
    "char = df_in_idx.filter(df_in_idx.idx.between(1,6486))\n",
    "char.show(10)"
   ]
  },
  {
   "cell_type": "code",
   "execution_count": 0,
   "metadata": {
    "application/vnd.databricks.v1+cell": {
     "inputWidgets": {},
     "nuid": "301e4148-bead-42d7-b2d7-502ef564895f",
     "showTitle": false,
     "title": ""
    }
   },
   "outputs": [
    {
     "data": {
      "text/html": [
       "<style scoped>\n",
       "  .ansiout {\n",
       "    display: block;\n",
       "    unicode-bidi: embed;\n",
       "    white-space: pre-wrap;\n",
       "    word-wrap: break-word;\n",
       "    word-break: break-all;\n",
       "    font-family: \"Source Code Pro\", \"Menlo\", monospace;;\n",
       "    font-size: 13px;\n",
       "    color: #555;\n",
       "    margin-left: 4px;\n",
       "    line-height: 19px;\n",
       "  }\n",
       "</style>\n",
       "<div class=\"ansiout\">+---------------+----+\n",
       "          value| idx|\n",
       "+---------------+----+\n",
       "  6487 &#34;AA2 35&#34;|6487|\n",
       "6488 &#34;M/PRM 35&#34;|6488|\n",
       "6489 &#34;M/PRM 36&#34;|6489|\n",
       "6490 &#34;M/PRM 37&#34;|6490|\n",
       "   6491 &#34;WI? 9&#34;|6491|\n",
       "   6492 &#34;AVF 4&#34;|6492|\n",
       "   6493 &#34;AVF 5&#34;|6493|\n",
       "  6494 &#34;H2 251&#34;|6494|\n",
       "  6495 &#34;H2 252&#34;|6495|\n",
       "   6496 &#34;COC 1&#34;|6496|\n",
       "+---------------+----+\n",
       "only showing top 10 rows\n",
       "\n",
       "</div>"
      ]
     },
     "metadata": {
      "application/vnd.databricks.v1+output": {
       "addedWidgets": {},
       "arguments": {},
       "data": "<div class=\"ansiout\">+---------------+----+\n|          value| idx|\n+---------------+----+\n|  6487 &#34;AA2 35&#34;|6487|\n|6488 &#34;M/PRM 35&#34;|6488|\n|6489 &#34;M/PRM 36&#34;|6489|\n|6490 &#34;M/PRM 37&#34;|6490|\n|   6491 &#34;WI? 9&#34;|6491|\n|   6492 &#34;AVF 4&#34;|6492|\n|   6493 &#34;AVF 5&#34;|6493|\n|  6494 &#34;H2 251&#34;|6494|\n|  6495 &#34;H2 252&#34;|6495|\n|   6496 &#34;COC 1&#34;|6496|\n+---------------+----+\nonly showing top 10 rows\n\n</div>",
       "datasetInfos": [],
       "metadata": {},
       "removedWidgets": [],
       "type": "html"
      }
     },
     "output_type": "display_data"
    }
   ],
   "source": [
    "pub = df_in_idx.filter(df_in_idx.idx.between(6487,19428))\n",
    "pub.show(10)"
   ]
  },
  {
   "cell_type": "code",
   "execution_count": 0,
   "metadata": {
    "application/vnd.databricks.v1+cell": {
     "inputWidgets": {},
     "nuid": "3c3d1551-60dc-4786-8dda-72c333d94fe2",
     "showTitle": false,
     "title": ""
    }
   },
   "outputs": [
    {
     "data": {
      "text/html": [
       "<style scoped>\n",
       "  .ansiout {\n",
       "    display: block;\n",
       "    unicode-bidi: embed;\n",
       "    white-space: pre-wrap;\n",
       "    word-wrap: break-word;\n",
       "    word-break: break-all;\n",
       "    font-family: \"Source Code Pro\", \"Menlo\", monospace;;\n",
       "    font-size: 13px;\n",
       "    color: #555;\n",
       "    margin-left: 4px;\n",
       "    line-height: 19px;\n",
       "  }\n",
       "</style>\n",
       "<div class=\"ansiout\">+--------------------+-----+\n",
       "               value|  idx|\n",
       "+--------------------+-----+\n",
       "              1 6487|19430|\n",
       "2 6488 6489 6490 ...|19431|\n",
       "3 6497 6498 6499 ...|19432|\n",
       "    4 6506 6507 6508|19433|\n",
       "    5 6509 6510 6511|19434|\n",
       "6 6512 6513 6514 ...|19435|\n",
       "              7 6516|19436|\n",
       "         8 6517 6518|19437|\n",
       "         9 6519 6520|19438|\n",
       "10 6521 6522 6523...|19439|\n",
       "+--------------------+-----+\n",
       "only showing top 10 rows\n",
       "\n",
       "</div>"
      ]
     },
     "metadata": {
      "application/vnd.databricks.v1+output": {
       "addedWidgets": {},
       "arguments": {},
       "data": "<div class=\"ansiout\">+--------------------+-----+\n|               value|  idx|\n+--------------------+-----+\n|              1 6487|19430|\n|2 6488 6489 6490 ...|19431|\n|3 6497 6498 6499 ...|19432|\n|    4 6506 6507 6508|19433|\n|    5 6509 6510 6511|19434|\n|6 6512 6513 6514 ...|19435|\n|              7 6516|19436|\n|         8 6517 6518|19437|\n|         9 6519 6520|19438|\n|10 6521 6522 6523...|19439|\n+--------------------+-----+\nonly showing top 10 rows\n\n</div>",
       "datasetInfos": [],
       "metadata": {},
       "removedWidgets": [],
       "type": "html"
      }
     },
     "output_type": "display_data"
    }
   ],
   "source": [
    "relationships = df_in_idx.filter(df_in_idx.idx.between(19430,30519))\n",
    "relationships.show(10)"
   ]
  },
  {
   "cell_type": "markdown",
   "metadata": {
    "application/vnd.databricks.v1+cell": {
     "inputWidgets": {},
     "nuid": "734b3ef9-d566-4803-971c-7d5039def463",
     "showTitle": false,
     "title": ""
    }
   },
   "source": [
    "Register the `characters` and `publications` dataframes in order to run SQL commands:"
   ]
  },
  {
   "cell_type": "code",
   "execution_count": 0,
   "metadata": {
    "application/vnd.databricks.v1+cell": {
     "inputWidgets": {},
     "nuid": "910464e2-1810-4148-bb94-01ea27185cf2",
     "showTitle": false,
     "title": ""
    }
   },
   "outputs": [
    {
     "data": {
      "text/html": [
       "<style scoped>\n",
       "  .ansiout {\n",
       "    display: block;\n",
       "    unicode-bidi: embed;\n",
       "    white-space: pre-wrap;\n",
       "    word-wrap: break-word;\n",
       "    word-break: break-all;\n",
       "    font-family: \"Source Code Pro\", \"Menlo\", monospace;;\n",
       "    font-size: 13px;\n",
       "    color: #555;\n",
       "    margin-left: 4px;\n",
       "    line-height: 19px;\n",
       "  }\n",
       "</style>\n",
       "<div class=\"ansiout\"></div>"
      ]
     },
     "metadata": {
      "application/vnd.databricks.v1+output": {
       "addedWidgets": {},
       "arguments": {},
       "data": "<div class=\"ansiout\"></div>",
       "datasetInfos": [],
       "metadata": {},
       "removedWidgets": [],
       "type": "html"
      }
     },
     "output_type": "display_data"
    }
   ],
   "source": [
    "# registering characters and publications\n",
    "char.createOrReplaceTempView(\"char\")\n",
    "pub.createOrReplaceTempView(\"pub\")"
   ]
  },
  {
   "cell_type": "markdown",
   "metadata": {
    "application/vnd.databricks.v1+cell": {
     "inputWidgets": {},
     "nuid": "90699bdd-86b5-4693-a951-97d12ea0159e",
     "showTitle": false,
     "title": ""
    }
   },
   "source": [
    "Use the `regexp_extract` function within a SQL statement and a regular expression to create three fields from the whole line: the first field will be the integer (which is the node id), the second is the text **between** the double quotes, and the third wether it is a character or publication. Create two new separate datframes, one for characters and the other for publications."
   ]
  },
  {
   "cell_type": "code",
   "execution_count": 0,
   "metadata": {
    "application/vnd.databricks.v1+cell": {
     "inputWidgets": {},
     "nuid": "e24fcf05-0c8d-4ad5-aefd-a4c532aab6f0",
     "showTitle": false,
     "title": ""
    }
   },
   "outputs": [
    {
     "data": {
      "text/html": [
       "<style scoped>\n",
       "  .ansiout {\n",
       "    display: block;\n",
       "    unicode-bidi: embed;\n",
       "    white-space: pre-wrap;\n",
       "    word-wrap: break-word;\n",
       "    word-break: break-all;\n",
       "    font-family: \"Source Code Pro\", \"Menlo\", monospace;;\n",
       "    font-size: 13px;\n",
       "    color: #555;\n",
       "    margin-left: 4px;\n",
       "    line-height: 19px;\n",
       "  }\n",
       "</style>\n",
       "<div class=\"ansiout\"></div>"
      ]
     },
     "metadata": {
      "application/vnd.databricks.v1+output": {
       "addedWidgets": {},
       "arguments": {},
       "data": "<div class=\"ansiout\"></div>",
       "datasetInfos": [],
       "metadata": {},
       "removedWidgets": [],
       "type": "html"
      }
     },
     "output_type": "display_data"
    }
   ],
   "source": [
    "char_df = spark.sql(\"select idx as node_id, regexp_extract(value, '^[0-9]+ \\\"(.*)\\\"$', 1) as name, \\\"character\\\" as node_type from char\")"
   ]
  },
  {
   "cell_type": "code",
   "execution_count": 0,
   "metadata": {
    "application/vnd.databricks.v1+cell": {
     "inputWidgets": {},
     "nuid": "6b937d98-3bbd-4332-a84b-9b0d7f4f6a35",
     "showTitle": false,
     "title": ""
    }
   },
   "outputs": [
    {
     "data": {
      "text/html": [
       "<style scoped>\n",
       "  .ansiout {\n",
       "    display: block;\n",
       "    unicode-bidi: embed;\n",
       "    white-space: pre-wrap;\n",
       "    word-wrap: break-word;\n",
       "    word-break: break-all;\n",
       "    font-family: \"Source Code Pro\", \"Menlo\", monospace;;\n",
       "    font-size: 13px;\n",
       "    color: #555;\n",
       "    margin-left: 4px;\n",
       "    line-height: 19px;\n",
       "  }\n",
       "</style>\n",
       "<div class=\"ansiout\"></div>"
      ]
     },
     "metadata": {
      "application/vnd.databricks.v1+output": {
       "addedWidgets": {},
       "arguments": {},
       "data": "<div class=\"ansiout\"></div>",
       "datasetInfos": [],
       "metadata": {},
       "removedWidgets": [],
       "type": "html"
      }
     },
     "output_type": "display_data"
    }
   ],
   "source": [
    "publication_df = spark.sql(\"select idx as node_id, regexp_extract(value, '^[0-9]+ \\\"(.*)\\\"$', 1) as name, \\\"publication\\\" as node_type from pub\")"
   ]
  },
  {
   "cell_type": "code",
   "execution_count": 0,
   "metadata": {
    "application/vnd.databricks.v1+cell": {
     "inputWidgets": {},
     "nuid": "c4a36fe6-d742-4e5c-8bb9-c44b04a7c38b",
     "showTitle": false,
     "title": ""
    }
   },
   "outputs": [
    {
     "data": {
      "text/html": [
       "<style scoped>\n",
       "  .ansiout {\n",
       "    display: block;\n",
       "    unicode-bidi: embed;\n",
       "    white-space: pre-wrap;\n",
       "    word-wrap: break-word;\n",
       "    word-break: break-all;\n",
       "    font-family: \"Source Code Pro\", \"Menlo\", monospace;;\n",
       "    font-size: 13px;\n",
       "    color: #555;\n",
       "    margin-left: 4px;\n",
       "    line-height: 19px;\n",
       "  }\n",
       "</style>\n",
       "<div class=\"ansiout\">+-------+--------------------+---------+\n",
       "node_id|                name|node_type|\n",
       "+-------+--------------------+---------+\n",
       "      1|24-HOUR MAN/EMMANUEL|character|\n",
       "      2|3-D MAN/CHARLES CHAN|character|\n",
       "      3|    4-D MAN/MERCURIO|character|\n",
       "      4|             8-BALL/|character|\n",
       "      5|                   A|character|\n",
       "      6|               A&#39;YIN|character|\n",
       "      7|        ABBOTT, JACK|character|\n",
       "      8|             ABCISSA|character|\n",
       "      9|                ABEL|character|\n",
       "     10|ABOMINATION/EMIL BLO|character|\n",
       "     11|ABOMINATION | MUTANT|character|\n",
       "     12|         ABOMINATRIX|character|\n",
       "     13|             ABRAXAS|character|\n",
       "     14|          ADAM 3,031|character|\n",
       "     15|             ABSALOM|character|\n",
       "     16|ABSORBING MAN/CARL C|character|\n",
       "     17|ABSORBING MAN | MUTA|character|\n",
       "     18|                ACBA|character|\n",
       "     19|ACHEBE, REVEREND DOC|character|\n",
       "     20|            ACHILLES|character|\n",
       "     21|  ACHILLES II/HELMUT|character|\n",
       "     22|  ACROBAT/CARL ZANTE|character|\n",
       "     23|              ADAM X|character|\n",
       "     24|        ADAMS, CINDY|character|\n",
       "     25|ADAMS, CONGRESSMAN H|character|\n",
       "     26|       ADAMS, GEORGE|character|\n",
       "     27|       ADAMS, MARTHA|character|\n",
       "     28| ADAMS, NICOLE NIKKI|character|\n",
       "     29|      ADAMSON, JASON|character|\n",
       "     30|    ADAMSON, REBECCA|character|\n",
       "     31|   ADMIRAL PROTOCOL/|character|\n",
       "     32|               ADORA|character|\n",
       "     33|         ADORA CLONE|character|\n",
       "     34|               ADRIA|character|\n",
       "     35|                ADVA|character|\n",
       "     36|   ADVENT/KYLE GROBE|character|\n",
       "     37|           ADVERSARY|character|\n",
       "     38|  AEGIS/TREY ROLLINS|character|\n",
       "     39|            AENTAROS|character|\n",
       "     40|           AFTERLIFE|character|\n",
       "     41|           AGAMEMNON|character|\n",
       "     42|AGAMEMNON II/ANDREI |character|\n",
       "     43|      AGAMEMNON III/|character|\n",
       "     44|            AGAMOTTO|character|\n",
       "     45|        AGARN, CAPT.|character|\n",
       "     46|        AGED GENGHIS|character|\n",
       "     47|    AGEE, DR. AUBREY|character|\n",
       "     48|       AGEE, REBECCA|character|\n",
       "     49|         AGENT AXIS/|character|\n",
       "     50|AGENT 18/JACK TRUMAN|character|\n",
       "+-------+--------------------+---------+\n",
       "only showing top 50 rows\n",
       "\n",
       "</div>"
      ]
     },
     "metadata": {
      "application/vnd.databricks.v1+output": {
       "addedWidgets": {},
       "arguments": {},
       "data": "<div class=\"ansiout\">+-------+--------------------+---------+\n|node_id|                name|node_type|\n+-------+--------------------+---------+\n|      1|24-HOUR MAN/EMMANUEL|character|\n|      2|3-D MAN/CHARLES CHAN|character|\n|      3|    4-D MAN/MERCURIO|character|\n|      4|             8-BALL/|character|\n|      5|                   A|character|\n|      6|               A&#39;YIN|character|\n|      7|        ABBOTT, JACK|character|\n|      8|             ABCISSA|character|\n|      9|                ABEL|character|\n|     10|ABOMINATION/EMIL BLO|character|\n|     11|ABOMINATION | MUTANT|character|\n|     12|         ABOMINATRIX|character|\n|     13|             ABRAXAS|character|\n|     14|          ADAM 3,031|character|\n|     15|             ABSALOM|character|\n|     16|ABSORBING MAN/CARL C|character|\n|     17|ABSORBING MAN | MUTA|character|\n|     18|                ACBA|character|\n|     19|ACHEBE, REVEREND DOC|character|\n|     20|            ACHILLES|character|\n|     21|  ACHILLES II/HELMUT|character|\n|     22|  ACROBAT/CARL ZANTE|character|\n|     23|              ADAM X|character|\n|     24|        ADAMS, CINDY|character|\n|     25|ADAMS, CONGRESSMAN H|character|\n|     26|       ADAMS, GEORGE|character|\n|     27|       ADAMS, MARTHA|character|\n|     28| ADAMS, NICOLE NIKKI|character|\n|     29|      ADAMSON, JASON|character|\n|     30|    ADAMSON, REBECCA|character|\n|     31|   ADMIRAL PROTOCOL/|character|\n|     32|               ADORA|character|\n|     33|         ADORA CLONE|character|\n|     34|               ADRIA|character|\n|     35|                ADVA|character|\n|     36|   ADVENT/KYLE GROBE|character|\n|     37|           ADVERSARY|character|\n|     38|  AEGIS/TREY ROLLINS|character|\n|     39|            AENTAROS|character|\n|     40|           AFTERLIFE|character|\n|     41|           AGAMEMNON|character|\n|     42|AGAMEMNON II/ANDREI |character|\n|     43|      AGAMEMNON III/|character|\n|     44|            AGAMOTTO|character|\n|     45|        AGARN, CAPT.|character|\n|     46|        AGED GENGHIS|character|\n|     47|    AGEE, DR. AUBREY|character|\n|     48|       AGEE, REBECCA|character|\n|     49|         AGENT AXIS/|character|\n|     50|AGENT 18/JACK TRUMAN|character|\n+-------+--------------------+---------+\nonly showing top 50 rows\n\n</div>",
       "datasetInfos": [],
       "metadata": {},
       "removedWidgets": [],
       "type": "html"
      }
     },
     "output_type": "display_data"
    }
   ],
   "source": [
    "char_df.show(50)"
   ]
  },
  {
   "cell_type": "code",
   "execution_count": 0,
   "metadata": {
    "application/vnd.databricks.v1+cell": {
     "inputWidgets": {},
     "nuid": "1a26cbeb-daef-40a1-acc4-ef4cdaea4e67",
     "showTitle": false,
     "title": ""
    }
   },
   "outputs": [
    {
     "data": {
      "text/html": [
       "<style scoped>\n",
       "  .ansiout {\n",
       "    display: block;\n",
       "    unicode-bidi: embed;\n",
       "    white-space: pre-wrap;\n",
       "    word-wrap: break-word;\n",
       "    word-break: break-all;\n",
       "    font-family: \"Source Code Pro\", \"Menlo\", monospace;;\n",
       "    font-size: 13px;\n",
       "    color: #555;\n",
       "    margin-left: 4px;\n",
       "    line-height: 19px;\n",
       "  }\n",
       "</style>\n",
       "<div class=\"ansiout\">+-------+--------+-----------+\n",
       "node_id|    name|  node_type|\n",
       "+-------+--------+-----------+\n",
       "   6487|  AA2 35|publication|\n",
       "   6488|M/PRM 35|publication|\n",
       "   6489|M/PRM 36|publication|\n",
       "   6490|M/PRM 37|publication|\n",
       "   6491|   WI? 9|publication|\n",
       "   6492|   AVF 4|publication|\n",
       "   6493|   AVF 5|publication|\n",
       "   6494|  H2 251|publication|\n",
       "   6495|  H2 252|publication|\n",
       "   6496|   COC 1|publication|\n",
       "   6497|   T 208|publication|\n",
       "   6498|   T 214|publication|\n",
       "   6499|   T 215|publication|\n",
       "   6500|   T 216|publication|\n",
       "   6501|   T 440|publication|\n",
       "   6502|   CM 51|publication|\n",
       "   6503|    Q 14|publication|\n",
       "   6504|    Q 16|publication|\n",
       "   6505|  CA3 36|publication|\n",
       "   6506| SLEEP 2|publication|\n",
       "   6507| SLEEP 1|publication|\n",
       "   6508|SLEEP 19|publication|\n",
       "   6509|  W2 159|publication|\n",
       "   6510|  W2 160|publication|\n",
       "   6511|  W2 161|publication|\n",
       "   6512|XCAL 110|publication|\n",
       "   6513|XCAL 109|publication|\n",
       "   6514|XCAL 107|publication|\n",
       "   6515|XCAL 108|publication|\n",
       "   6516| DD/SM 1|publication|\n",
       "   6517|   W2 52|publication|\n",
       "   6518|   W2 53|publication|\n",
       "   6519|XFOR 108|publication|\n",
       "   6520|XFOR 109|publication|\n",
       "   6521|   H3 25|publication|\n",
       "   6522|TTA 90/2|publication|\n",
       "   6523|TTA 91/2|publication|\n",
       "   6524|   SS 12|publication|\n",
       "   6525|   T 178|publication|\n",
       "   6526|  H2 136|publication|\n",
       "   6527|  H2 137|publication|\n",
       "   6528|  H2 159|publication|\n",
       "   6529|  H2 171|publication|\n",
       "   6530|  H2 194|publication|\n",
       "   6531|  H2 195|publication|\n",
       "   6532|  H2 196|publication|\n",
       "   6533|  H2 270|publication|\n",
       "   6534|  H2 287|publication|\n",
       "   6535|  H2 278|publication|\n",
       "   6536|  H2 288|publication|\n",
       "+-------+--------+-----------+\n",
       "only showing top 50 rows\n",
       "\n",
       "</div>"
      ]
     },
     "metadata": {
      "application/vnd.databricks.v1+output": {
       "addedWidgets": {},
       "arguments": {},
       "data": "<div class=\"ansiout\">+-------+--------+-----------+\n|node_id|    name|  node_type|\n+-------+--------+-----------+\n|   6487|  AA2 35|publication|\n|   6488|M/PRM 35|publication|\n|   6489|M/PRM 36|publication|\n|   6490|M/PRM 37|publication|\n|   6491|   WI? 9|publication|\n|   6492|   AVF 4|publication|\n|   6493|   AVF 5|publication|\n|   6494|  H2 251|publication|\n|   6495|  H2 252|publication|\n|   6496|   COC 1|publication|\n|   6497|   T 208|publication|\n|   6498|   T 214|publication|\n|   6499|   T 215|publication|\n|   6500|   T 216|publication|\n|   6501|   T 440|publication|\n|   6502|   CM 51|publication|\n|   6503|    Q 14|publication|\n|   6504|    Q 16|publication|\n|   6505|  CA3 36|publication|\n|   6506| SLEEP 2|publication|\n|   6507| SLEEP 1|publication|\n|   6508|SLEEP 19|publication|\n|   6509|  W2 159|publication|\n|   6510|  W2 160|publication|\n|   6511|  W2 161|publication|\n|   6512|XCAL 110|publication|\n|   6513|XCAL 109|publication|\n|   6514|XCAL 107|publication|\n|   6515|XCAL 108|publication|\n|   6516| DD/SM 1|publication|\n|   6517|   W2 52|publication|\n|   6518|   W2 53|publication|\n|   6519|XFOR 108|publication|\n|   6520|XFOR 109|publication|\n|   6521|   H3 25|publication|\n|   6522|TTA 90/2|publication|\n|   6523|TTA 91/2|publication|\n|   6524|   SS 12|publication|\n|   6525|   T 178|publication|\n|   6526|  H2 136|publication|\n|   6527|  H2 137|publication|\n|   6528|  H2 159|publication|\n|   6529|  H2 171|publication|\n|   6530|  H2 194|publication|\n|   6531|  H2 195|publication|\n|   6532|  H2 196|publication|\n|   6533|  H2 270|publication|\n|   6534|  H2 287|publication|\n|   6535|  H2 278|publication|\n|   6536|  H2 288|publication|\n+-------+--------+-----------+\nonly showing top 50 rows\n\n</div>",
       "datasetInfos": [],
       "metadata": {},
       "removedWidgets": [],
       "type": "html"
      }
     },
     "output_type": "display_data"
    }
   ],
   "source": [
    "publication_df.show(50)"
   ]
  },
  {
   "cell_type": "markdown",
   "metadata": {
    "application/vnd.databricks.v1+cell": {
     "inputWidgets": {},
     "nuid": "de4637dd-279d-422b-bcc3-7899b08b4916",
     "showTitle": false,
     "title": ""
    }
   },
   "source": [
    "Stack both the character and publications into a single dataframe called `nodes_df`, and cache it."
   ]
  },
  {
   "cell_type": "code",
   "execution_count": 0,
   "metadata": {
    "application/vnd.databricks.v1+cell": {
     "inputWidgets": {},
     "nuid": "4f88bbe5-2081-46a6-833d-3c03aec87556",
     "showTitle": false,
     "title": ""
    }
   },
   "outputs": [
    {
     "data": {
      "text/html": [
       "<style scoped>\n",
       "  .ansiout {\n",
       "    display: block;\n",
       "    unicode-bidi: embed;\n",
       "    white-space: pre-wrap;\n",
       "    word-wrap: break-word;\n",
       "    word-break: break-all;\n",
       "    font-family: \"Source Code Pro\", \"Menlo\", monospace;;\n",
       "    font-size: 13px;\n",
       "    color: #555;\n",
       "    margin-left: 4px;\n",
       "    line-height: 19px;\n",
       "  }\n",
       "</style>\n",
       "<div class=\"ansiout\"></div>"
      ]
     },
     "metadata": {
      "application/vnd.databricks.v1+output": {
       "addedWidgets": {},
       "arguments": {},
       "data": "<div class=\"ansiout\"></div>",
       "datasetInfos": [],
       "metadata": {},
       "removedWidgets": [],
       "type": "html"
      }
     },
     "output_type": "display_data"
    }
   ],
   "source": [
    "nodes_df = char_df.union(publication_df).cache()"
   ]
  },
  {
   "cell_type": "code",
   "execution_count": 0,
   "metadata": {
    "application/vnd.databricks.v1+cell": {
     "inputWidgets": {},
     "nuid": "78ec01f3-10e1-4f4f-8352-d666033b4d3a",
     "showTitle": false,
     "title": ""
    }
   },
   "outputs": [
    {
     "data": {
      "text/html": [
       "<style scoped>\n",
       "  .ansiout {\n",
       "    display: block;\n",
       "    unicode-bidi: embed;\n",
       "    white-space: pre-wrap;\n",
       "    word-wrap: break-word;\n",
       "    word-break: break-all;\n",
       "    font-family: \"Source Code Pro\", \"Menlo\", monospace;;\n",
       "    font-size: 13px;\n",
       "    color: #555;\n",
       "    margin-left: 4px;\n",
       "    line-height: 19px;\n",
       "  }\n",
       "</style>\n",
       "<div class=\"ansiout\">+-------+--------------------+-----------+\n",
       "node_id|                name|  node_type|\n",
       "+-------+--------------------+-----------+\n",
       "  19411|              YC 4/4|publication|\n",
       "  19412|              YC 4/6|publication|\n",
       "  19413|            KZ3 11/2|publication|\n",
       "  19414|            KZ3 12/2|publication|\n",
       "  19415|               H&#39; 98|publication|\n",
       "  19416|         SGT. FURY 8|publication|\n",
       "  19417|   CA: MEDUSA EFFECT|publication|\n",
       "  19418|SPIDER-MAN: FEAR ITS|publication|\n",
       "  19419|            TOTZ 4/6|publication|\n",
       "  19420|              TOTZ 5|publication|\n",
       "  19421|              TOTZ 6|publication|\n",
       "  19422|              TOTZ 7|publication|\n",
       "  19423|              TOTZ 8|publication|\n",
       "  19424|           BIZADV 33|publication|\n",
       "  19425|             WI 25/2|publication|\n",
       "  19426|              AA2 30|publication|\n",
       "  19427|              AA2 20|publication|\n",
       "  19428|              AA2 38|publication|\n",
       "+-------+--------------------+-----------+\n",
       "\n",
       "</div>"
      ]
     },
     "metadata": {
      "application/vnd.databricks.v1+output": {
       "addedWidgets": {},
       "arguments": {},
       "data": "<div class=\"ansiout\">+-------+--------------------+-----------+\n|node_id|                name|  node_type|\n+-------+--------------------+-----------+\n|  19411|              YC 4/4|publication|\n|  19412|              YC 4/6|publication|\n|  19413|            KZ3 11/2|publication|\n|  19414|            KZ3 12/2|publication|\n|  19415|               H&#39; 98|publication|\n|  19416|         SGT. FURY 8|publication|\n|  19417|   CA: MEDUSA EFFECT|publication|\n|  19418|SPIDER-MAN: FEAR ITS|publication|\n|  19419|            TOTZ 4/6|publication|\n|  19420|              TOTZ 5|publication|\n|  19421|              TOTZ 6|publication|\n|  19422|              TOTZ 7|publication|\n|  19423|              TOTZ 8|publication|\n|  19424|           BIZADV 33|publication|\n|  19425|             WI 25/2|publication|\n|  19426|              AA2 30|publication|\n|  19427|              AA2 20|publication|\n|  19428|              AA2 38|publication|\n+-------+--------------------+-----------+\n\n</div>",
       "datasetInfos": [],
       "metadata": {},
       "removedWidgets": [],
       "type": "html"
      }
     },
     "output_type": "display_data"
    }
   ],
   "source": [
    "nodes_df.filter(col(\"node_id\") > 19410).show()"
   ]
  },
  {
   "cell_type": "markdown",
   "metadata": {
    "application/vnd.databricks.v1+cell": {
     "inputWidgets": {},
     "nuid": "bda80cbd-7f41-4c53-9695-aa316bae0184",
     "showTitle": false,
     "title": ""
    }
   },
   "source": [
    "Now you will work on the relationships dataframe. Import the `split` and `explode` functions:"
   ]
  },
  {
   "cell_type": "code",
   "execution_count": 0,
   "metadata": {
    "application/vnd.databricks.v1+cell": {
     "inputWidgets": {},
     "nuid": "7b4e105c-b962-43dd-affb-8a228a6c769e",
     "showTitle": false,
     "title": ""
    }
   },
   "outputs": [
    {
     "data": {
      "text/html": [
       "<style scoped>\n",
       "  .ansiout {\n",
       "    display: block;\n",
       "    unicode-bidi: embed;\n",
       "    white-space: pre-wrap;\n",
       "    word-wrap: break-word;\n",
       "    word-break: break-all;\n",
       "    font-family: \"Source Code Pro\", \"Menlo\", monospace;;\n",
       "    font-size: 13px;\n",
       "    color: #555;\n",
       "    margin-left: 4px;\n",
       "    line-height: 19px;\n",
       "  }\n",
       "</style>\n",
       "<div class=\"ansiout\"></div>"
      ]
     },
     "metadata": {
      "application/vnd.databricks.v1+output": {
       "addedWidgets": {},
       "arguments": {},
       "data": "<div class=\"ansiout\"></div>",
       "datasetInfos": [],
       "metadata": {},
       "removedWidgets": [],
       "type": "html"
      }
     },
     "output_type": "display_data"
    }
   ],
   "source": [
    "from pyspark.sql.functions import split, explode"
   ]
  },
  {
   "cell_type": "code",
   "execution_count": 0,
   "metadata": {
    "application/vnd.databricks.v1+cell": {
     "inputWidgets": {},
     "nuid": "b7b4414c-a998-444d-b721-962b26ba77f8",
     "showTitle": false,
     "title": ""
    }
   },
   "outputs": [
    {
     "data": {
      "text/html": [
       "<style scoped>\n",
       "  .ansiout {\n",
       "    display: block;\n",
       "    unicode-bidi: embed;\n",
       "    white-space: pre-wrap;\n",
       "    word-wrap: break-word;\n",
       "    word-break: break-all;\n",
       "    font-family: \"Source Code Pro\", \"Menlo\", monospace;;\n",
       "    font-size: 13px;\n",
       "    color: #555;\n",
       "    margin-left: 4px;\n",
       "    line-height: 19px;\n",
       "  }\n",
       "</style>\n",
       "<div class=\"ansiout\"></div>"
      ]
     },
     "metadata": {
      "application/vnd.databricks.v1+output": {
       "addedWidgets": {},
       "arguments": {},
       "data": "<div class=\"ansiout\"></div>",
       "datasetInfos": [],
       "metadata": {},
       "removedWidgets": [],
       "type": "html"
      }
     },
     "output_type": "display_data"
    }
   ],
   "source": [
    "rel_rdd = relationships.select(\"value\").rdd"
   ]
  },
  {
   "cell_type": "code",
   "execution_count": 0,
   "metadata": {
    "application/vnd.databricks.v1+cell": {
     "inputWidgets": {},
     "nuid": "b1fa15f8-e175-4762-9a10-7c24b5deb93b",
     "showTitle": false,
     "title": ""
    }
   },
   "outputs": [
    {
     "data": {
      "text/html": [
       "<style scoped>\n",
       "  .ansiout {\n",
       "    display: block;\n",
       "    unicode-bidi: embed;\n",
       "    white-space: pre-wrap;\n",
       "    word-wrap: break-word;\n",
       "    word-break: break-all;\n",
       "    font-family: \"Source Code Pro\", \"Menlo\", monospace;;\n",
       "    font-size: 13px;\n",
       "    color: #555;\n",
       "    margin-left: 4px;\n",
       "    line-height: 19px;\n",
       "  }\n",
       "</style>\n",
       "<div class=\"ansiout\">+--------------------+-----+\n",
       "               value|  idx|\n",
       "+--------------------+-----+\n",
       "              1 6487|19430|\n",
       "2 6488 6489 6490 ...|19431|\n",
       "3 6497 6498 6499 ...|19432|\n",
       "    4 6506 6507 6508|19433|\n",
       "    5 6509 6510 6511|19434|\n",
       "6 6512 6513 6514 ...|19435|\n",
       "              7 6516|19436|\n",
       "         8 6517 6518|19437|\n",
       "         9 6519 6520|19438|\n",
       "10 6521 6522 6523...|19439|\n",
       "10 6536 6537 6538...|19440|\n",
       "10 6551 6552 6553...|19441|\n",
       "             11 6566|19442|\n",
       "   12 6567 6568 6569|19443|\n",
       "13 6570 6571 6572...|19444|\n",
       "14 6574 6575 6576...|19445|\n",
       "15 6578 6579 6580...|19446|\n",
       "16 6582 6583 6584...|19447|\n",
       "16 6597 6598 6599...|19448|\n",
       "16 6612 6613 6614...|19449|\n",
       "+--------------------+-----+\n",
       "only showing top 20 rows\n",
       "\n",
       "</div>"
      ]
     },
     "metadata": {
      "application/vnd.databricks.v1+output": {
       "addedWidgets": {},
       "arguments": {},
       "data": "<div class=\"ansiout\">+--------------------+-----+\n|               value|  idx|\n+--------------------+-----+\n|              1 6487|19430|\n|2 6488 6489 6490 ...|19431|\n|3 6497 6498 6499 ...|19432|\n|    4 6506 6507 6508|19433|\n|    5 6509 6510 6511|19434|\n|6 6512 6513 6514 ...|19435|\n|              7 6516|19436|\n|         8 6517 6518|19437|\n|         9 6519 6520|19438|\n|10 6521 6522 6523...|19439|\n|10 6536 6537 6538...|19440|\n|10 6551 6552 6553...|19441|\n|             11 6566|19442|\n|   12 6567 6568 6569|19443|\n|13 6570 6571 6572...|19444|\n|14 6574 6575 6576...|19445|\n|15 6578 6579 6580...|19446|\n|16 6582 6583 6584...|19447|\n|16 6597 6598 6599...|19448|\n|16 6612 6613 6614...|19449|\n+--------------------+-----+\nonly showing top 20 rows\n\n</div>",
       "datasetInfos": [],
       "metadata": {},
       "removedWidgets": [],
       "type": "html"
      }
     },
     "output_type": "display_data"
    }
   ],
   "source": [
    "relationships.show()"
   ]
  },
  {
   "cell_type": "code",
   "execution_count": 0,
   "metadata": {
    "application/vnd.databricks.v1+cell": {
     "inputWidgets": {},
     "nuid": "ff5d5fa6-f651-4c88-8830-4d692424a5da",
     "showTitle": false,
     "title": ""
    }
   },
   "outputs": [
    {
     "data": {
      "text/html": [
       "<style scoped>\n",
       "  .ansiout {\n",
       "    display: block;\n",
       "    unicode-bidi: embed;\n",
       "    white-space: pre-wrap;\n",
       "    word-wrap: break-word;\n",
       "    word-break: break-all;\n",
       "    font-family: \"Source Code Pro\", \"Menlo\", monospace;;\n",
       "    font-size: 13px;\n",
       "    color: #555;\n",
       "    margin-left: 4px;\n",
       "    line-height: 19px;\n",
       "  }\n",
       "</style>\n",
       "<div class=\"ansiout\"></div>"
      ]
     },
     "metadata": {
      "application/vnd.databricks.v1+output": {
       "addedWidgets": {},
       "arguments": {},
       "data": "<div class=\"ansiout\"></div>",
       "datasetInfos": [],
       "metadata": {},
       "removedWidgets": [],
       "type": "html"
      }
     },
     "output_type": "display_data"
    }
   ],
   "source": [
    "r2 = relationships.withColumn(\"newcol\", split(col(\"value\"), \" \")).cache() #convert value to array"
   ]
  },
  {
   "cell_type": "markdown",
   "metadata": {
    "application/vnd.databricks.v1+cell": {
     "inputWidgets": {},
     "nuid": "d968b3fe-a4c9-4be3-bd1a-e4902975b97c",
     "showTitle": false,
     "title": ""
    }
   },
   "source": [
    "Now, using a chain of daframe api methods, start with the value field in the `relationships` dataframe, wher you will create"
   ]
  },
  {
   "cell_type": "code",
   "execution_count": 0,
   "metadata": {
    "application/vnd.databricks.v1+cell": {
     "inputWidgets": {},
     "nuid": "1ec12118-e5cc-4db4-b870-05b25a2511a6",
     "showTitle": false,
     "title": ""
    }
   },
   "outputs": [
    {
     "data": {
      "text/html": [
       "<style scoped>\n",
       "  .ansiout {\n",
       "    display: block;\n",
       "    unicode-bidi: embed;\n",
       "    white-space: pre-wrap;\n",
       "    word-wrap: break-word;\n",
       "    word-break: break-all;\n",
       "    font-family: \"Source Code Pro\", \"Menlo\", monospace;;\n",
       "    font-size: 13px;\n",
       "    color: #555;\n",
       "    margin-left: 4px;\n",
       "    line-height: 19px;\n",
       "  }\n",
       "</style>\n",
       "<div class=\"ansiout\">+--------------------+-----+--------------------+\n",
       "               value|  idx|              newcol|\n",
       "+--------------------+-----+--------------------+\n",
       "              1 6487|19430|           [1, 6487]|\n",
       "2 6488 6489 6490 ...|19431|[2, 6488, 6489, 6...|\n",
       "3 6497 6498 6499 ...|19432|[3, 6497, 6498, 6...|\n",
       "    4 6506 6507 6508|19433|[4, 6506, 6507, 6...|\n",
       "    5 6509 6510 6511|19434|[5, 6509, 6510, 6...|\n",
       "6 6512 6513 6514 ...|19435|[6, 6512, 6513, 6...|\n",
       "              7 6516|19436|           [7, 6516]|\n",
       "         8 6517 6518|19437|     [8, 6517, 6518]|\n",
       "         9 6519 6520|19438|     [9, 6519, 6520]|\n",
       "10 6521 6522 6523...|19439|[10, 6521, 6522, ...|\n",
       "10 6536 6537 6538...|19440|[10, 6536, 6537, ...|\n",
       "10 6551 6552 6553...|19441|[10, 6551, 6552, ...|\n",
       "             11 6566|19442|          [11, 6566]|\n",
       "   12 6567 6568 6569|19443|[12, 6567, 6568, ...|\n",
       "13 6570 6571 6572...|19444|[13, 6570, 6571, ...|\n",
       "14 6574 6575 6576...|19445|[14, 6574, 6575, ...|\n",
       "15 6578 6579 6580...|19446|[15, 6578, 6579, ...|\n",
       "16 6582 6583 6584...|19447|[16, 6582, 6583, ...|\n",
       "16 6597 6598 6599...|19448|[16, 6597, 6598, ...|\n",
       "16 6612 6613 6614...|19449|[16, 6612, 6613, ...|\n",
       "+--------------------+-----+--------------------+\n",
       "only showing top 20 rows\n",
       "\n",
       "</div>"
      ]
     },
     "metadata": {
      "application/vnd.databricks.v1+output": {
       "addedWidgets": {},
       "arguments": {},
       "data": "<div class=\"ansiout\">+--------------------+-----+--------------------+\n|               value|  idx|              newcol|\n+--------------------+-----+--------------------+\n|              1 6487|19430|           [1, 6487]|\n|2 6488 6489 6490 ...|19431|[2, 6488, 6489, 6...|\n|3 6497 6498 6499 ...|19432|[3, 6497, 6498, 6...|\n|    4 6506 6507 6508|19433|[4, 6506, 6507, 6...|\n|    5 6509 6510 6511|19434|[5, 6509, 6510, 6...|\n|6 6512 6513 6514 ...|19435|[6, 6512, 6513, 6...|\n|              7 6516|19436|           [7, 6516]|\n|         8 6517 6518|19437|     [8, 6517, 6518]|\n|         9 6519 6520|19438|     [9, 6519, 6520]|\n|10 6521 6522 6523...|19439|[10, 6521, 6522, ...|\n|10 6536 6537 6538...|19440|[10, 6536, 6537, ...|\n|10 6551 6552 6553...|19441|[10, 6551, 6552, ...|\n|             11 6566|19442|          [11, 6566]|\n|   12 6567 6568 6569|19443|[12, 6567, 6568, ...|\n|13 6570 6571 6572...|19444|[13, 6570, 6571, ...|\n|14 6574 6575 6576...|19445|[14, 6574, 6575, ...|\n|15 6578 6579 6580...|19446|[15, 6578, 6579, ...|\n|16 6582 6583 6584...|19447|[16, 6582, 6583, ...|\n|16 6597 6598 6599...|19448|[16, 6597, 6598, ...|\n|16 6612 6613 6614...|19449|[16, 6612, 6613, ...|\n+--------------------+-----+--------------------+\nonly showing top 20 rows\n\n</div>",
       "datasetInfos": [],
       "metadata": {},
       "removedWidgets": [],
       "type": "html"
      }
     },
     "output_type": "display_data"
    }
   ],
   "source": [
    "r2.show()"
   ]
  },
  {
   "cell_type": "code",
   "execution_count": 0,
   "metadata": {
    "application/vnd.databricks.v1+cell": {
     "inputWidgets": {},
     "nuid": "aabf3453-4c20-464f-a3c8-60f75dab459d",
     "showTitle": false,
     "title": ""
    }
   },
   "outputs": [
    {
     "data": {
      "text/html": [
       "<style scoped>\n",
       "  .ansiout {\n",
       "    display: block;\n",
       "    unicode-bidi: embed;\n",
       "    white-space: pre-wrap;\n",
       "    word-wrap: break-word;\n",
       "    word-break: break-all;\n",
       "    font-family: \"Source Code Pro\", \"Menlo\", monospace;;\n",
       "    font-size: 13px;\n",
       "    color: #555;\n",
       "    margin-left: 4px;\n",
       "    line-height: 19px;\n",
       "  }\n",
       "</style>\n",
       "<div class=\"ansiout\"></div>"
      ]
     },
     "metadata": {
      "application/vnd.databricks.v1+output": {
       "addedWidgets": {},
       "arguments": {},
       "data": "<div class=\"ansiout\"></div>",
       "datasetInfos": [],
       "metadata": {},
       "removedWidgets": [],
       "type": "html"
      }
     },
     "output_type": "display_data"
    }
   ],
   "source": [
    "edges_df = relationships.withColumn(\"newcol\", split(col(\"value\"), \" \")) \\\n",
    "    .withColumn(\"character\", col(\"newcol\").getItem(0)) \\\n",
    "    .select(\"character\", explode(col(\"newcol\")).alias(\"publication\")) \\\n",
    "    .filter(col(\"character\") != col(\"publication\")).cache()"
   ]
  },
  {
   "cell_type": "code",
   "execution_count": 0,
   "metadata": {
    "application/vnd.databricks.v1+cell": {
     "inputWidgets": {},
     "nuid": "82c611b6-0f94-4a64-b74f-5bb1ad04c5c6",
     "showTitle": false,
     "title": ""
    }
   },
   "outputs": [
    {
     "data": {
      "text/html": [
       "<style scoped>\n",
       "  .ansiout {\n",
       "    display: block;\n",
       "    unicode-bidi: embed;\n",
       "    white-space: pre-wrap;\n",
       "    word-wrap: break-word;\n",
       "    word-break: break-all;\n",
       "    font-family: \"Source Code Pro\", \"Menlo\", monospace;;\n",
       "    font-size: 13px;\n",
       "    color: #555;\n",
       "    margin-left: 4px;\n",
       "    line-height: 19px;\n",
       "  }\n",
       "</style>\n",
       "<div class=\"ansiout\">+---------+-----------+\n",
       "character|publication|\n",
       "+---------+-----------+\n",
       "        1|       6487|\n",
       "        2|       6488|\n",
       "        2|       6489|\n",
       "        2|       6490|\n",
       "        2|       6491|\n",
       "        2|       6492|\n",
       "        2|       6493|\n",
       "        2|       6494|\n",
       "        2|       6495|\n",
       "        2|       6496|\n",
       "        3|       6497|\n",
       "        3|       6498|\n",
       "        3|       6499|\n",
       "        3|       6500|\n",
       "        3|       6501|\n",
       "        3|       6502|\n",
       "        3|       6503|\n",
       "        3|       6504|\n",
       "        3|       6505|\n",
       "        4|       6506|\n",
       "        4|       6507|\n",
       "        4|       6508|\n",
       "        5|       6509|\n",
       "        5|       6510|\n",
       "        5|       6511|\n",
       "        6|       6512|\n",
       "        6|       6513|\n",
       "        6|       6514|\n",
       "        6|       6515|\n",
       "        7|       6516|\n",
       "        8|       6517|\n",
       "        8|       6518|\n",
       "        9|       6519|\n",
       "        9|       6520|\n",
       "       10|       6521|\n",
       "       10|       6522|\n",
       "       10|       6523|\n",
       "       10|       6524|\n",
       "       10|       6525|\n",
       "       10|       6526|\n",
       "       10|       6527|\n",
       "       10|       6528|\n",
       "       10|       6529|\n",
       "       10|       6530|\n",
       "       10|       6531|\n",
       "       10|       6532|\n",
       "       10|       6533|\n",
       "       10|       6534|\n",
       "       10|       6535|\n",
       "       10|       6536|\n",
       "+---------+-----------+\n",
       "only showing top 50 rows\n",
       "\n",
       "</div>"
      ]
     },
     "metadata": {
      "application/vnd.databricks.v1+output": {
       "addedWidgets": {},
       "arguments": {},
       "data": "<div class=\"ansiout\">+---------+-----------+\n|character|publication|\n+---------+-----------+\n|        1|       6487|\n|        2|       6488|\n|        2|       6489|\n|        2|       6490|\n|        2|       6491|\n|        2|       6492|\n|        2|       6493|\n|        2|       6494|\n|        2|       6495|\n|        2|       6496|\n|        3|       6497|\n|        3|       6498|\n|        3|       6499|\n|        3|       6500|\n|        3|       6501|\n|        3|       6502|\n|        3|       6503|\n|        3|       6504|\n|        3|       6505|\n|        4|       6506|\n|        4|       6507|\n|        4|       6508|\n|        5|       6509|\n|        5|       6510|\n|        5|       6511|\n|        6|       6512|\n|        6|       6513|\n|        6|       6514|\n|        6|       6515|\n|        7|       6516|\n|        8|       6517|\n|        8|       6518|\n|        9|       6519|\n|        9|       6520|\n|       10|       6521|\n|       10|       6522|\n|       10|       6523|\n|       10|       6524|\n|       10|       6525|\n|       10|       6526|\n|       10|       6527|\n|       10|       6528|\n|       10|       6529|\n|       10|       6530|\n|       10|       6531|\n|       10|       6532|\n|       10|       6533|\n|       10|       6534|\n|       10|       6535|\n|       10|       6536|\n+---------+-----------+\nonly showing top 50 rows\n\n</div>",
       "datasetInfos": [],
       "metadata": {},
       "removedWidgets": [],
       "type": "html"
      }
     },
     "output_type": "display_data"
    }
   ],
   "source": [
    "edges_df.show(50)"
   ]
  },
  {
   "cell_type": "code",
   "execution_count": 0,
   "metadata": {
    "application/vnd.databricks.v1+cell": {
     "inputWidgets": {},
     "nuid": "c8c3c116-de15-4e0e-984c-31fbd55dbe20",
     "showTitle": false,
     "title": ""
    }
   },
   "outputs": [
    {
     "data": {
      "text/html": [
       "<style scoped>\n",
       "  .ansiout {\n",
       "    display: block;\n",
       "    unicode-bidi: embed;\n",
       "    white-space: pre-wrap;\n",
       "    word-wrap: break-word;\n",
       "    word-break: break-all;\n",
       "    font-family: \"Source Code Pro\", \"Menlo\", monospace;;\n",
       "    font-size: 13px;\n",
       "    color: #555;\n",
       "    margin-left: 4px;\n",
       "    line-height: 19px;\n",
       "  }\n",
       "</style>\n",
       "<div class=\"ansiout\"></div>"
      ]
     },
     "metadata": {
      "application/vnd.databricks.v1+output": {
       "addedWidgets": {},
       "arguments": {},
       "data": "<div class=\"ansiout\"></div>",
       "datasetInfos": [],
       "metadata": {},
       "removedWidgets": [],
       "type": "html"
      }
     },
     "output_type": "display_data"
    }
   ],
   "source": [
    "#  Register relationships as a temporary view\n",
    "nodes_df.createOrReplaceTempView(\"nodes_df\")\n",
    "edges_df.createOrReplaceTempView(\"edges_df\")"
   ]
  },
  {
   "cell_type": "code",
   "execution_count": 0,
   "metadata": {
    "application/vnd.databricks.v1+cell": {
     "inputWidgets": {},
     "nuid": "468d8e0e-fe41-4c75-a62d-224916abdeed",
     "showTitle": false,
     "title": ""
    }
   },
   "outputs": [
    {
     "data": {
      "text/html": [
       "<style scoped>\n",
       "  .ansiout {\n",
       "    display: block;\n",
       "    unicode-bidi: embed;\n",
       "    white-space: pre-wrap;\n",
       "    word-wrap: break-word;\n",
       "    word-break: break-all;\n",
       "    font-family: \"Source Code Pro\", \"Menlo\", monospace;;\n",
       "    font-size: 13px;\n",
       "    color: #555;\n",
       "    margin-left: 4px;\n",
       "    line-height: 19px;\n",
       "  }\n",
       "</style>\n",
       "<div class=\"ansiout\">Out[70]: [Row(count(1)=96662)]</div>"
      ]
     },
     "metadata": {
      "application/vnd.databricks.v1+output": {
       "addedWidgets": {},
       "arguments": {},
       "data": "<div class=\"ansiout\">Out[70]: [Row(count(1)=96662)]</div>",
       "datasetInfos": [],
       "metadata": {},
       "removedWidgets": [],
       "type": "html"
      }
     },
     "output_type": "display_data"
    }
   ],
   "source": [
    "spark.sql(\"select count(*) from edges_df\").collect()"
   ]
  },
  {
   "cell_type": "markdown",
   "metadata": {
    "application/vnd.databricks.v1+cell": {
     "inputWidgets": {},
     "nuid": "c7f7638d-0767-482e-bcb7-f933c343c6c0",
     "showTitle": false,
     "title": ""
    }
   },
   "source": [
    "## Create an analytical dataset\n",
    "\n",
    "You will now create an analytical dataset using SparkSQL where you will join both tables (nodes_df and edge_df) so you have the data you need to run some analytics on the data."
   ]
  },
  {
   "cell_type": "code",
   "execution_count": 0,
   "metadata": {
    "application/vnd.databricks.v1+cell": {
     "inputWidgets": {},
     "nuid": "eb68ef56-e3dd-4e91-9afa-454c1b67f063",
     "showTitle": false,
     "title": ""
    }
   },
   "outputs": [
    {
     "data": {
      "text/html": [
       "<style scoped>\n",
       "  .ansiout {\n",
       "    display: block;\n",
       "    unicode-bidi: embed;\n",
       "    white-space: pre-wrap;\n",
       "    word-wrap: break-word;\n",
       "    word-break: break-all;\n",
       "    font-family: \"Source Code Pro\", \"Menlo\", monospace;;\n",
       "    font-size: 13px;\n",
       "    color: #555;\n",
       "    margin-left: 4px;\n",
       "    line-height: 19px;\n",
       "  }\n",
       "</style>\n",
       "<div class=\"ansiout\">+---------+-----------+\n",
       "character|publication|\n",
       "+---------+-----------+\n",
       "        1|       6487|\n",
       "        2|       6488|\n",
       "        2|       6489|\n",
       "        2|       6490|\n",
       "        2|       6491|\n",
       "        2|       6492|\n",
       "        2|       6493|\n",
       "        2|       6494|\n",
       "        2|       6495|\n",
       "        2|       6496|\n",
       "+---------+-----------+\n",
       "only showing top 10 rows\n",
       "\n",
       "</div>"
      ]
     },
     "metadata": {
      "application/vnd.databricks.v1+output": {
       "addedWidgets": {},
       "arguments": {},
       "data": "<div class=\"ansiout\">+---------+-----------+\n|character|publication|\n+---------+-----------+\n|        1|       6487|\n|        2|       6488|\n|        2|       6489|\n|        2|       6490|\n|        2|       6491|\n|        2|       6492|\n|        2|       6493|\n|        2|       6494|\n|        2|       6495|\n|        2|       6496|\n+---------+-----------+\nonly showing top 10 rows\n\n</div>",
       "datasetInfos": [],
       "metadata": {},
       "removedWidgets": [],
       "type": "html"
      }
     },
     "output_type": "display_data"
    }
   ],
   "source": [
    "edges_df.show(10)"
   ]
  },
  {
   "cell_type": "code",
   "execution_count": 0,
   "metadata": {
    "application/vnd.databricks.v1+cell": {
     "inputWidgets": {},
     "nuid": "185e0fd4-a02f-40b6-93c6-67b58879a6c6",
     "showTitle": false,
     "title": ""
    }
   },
   "outputs": [
    {
     "data": {
      "text/html": [
       "<style scoped>\n",
       "  .ansiout {\n",
       "    display: block;\n",
       "    unicode-bidi: embed;\n",
       "    white-space: pre-wrap;\n",
       "    word-wrap: break-word;\n",
       "    word-break: break-all;\n",
       "    font-family: \"Source Code Pro\", \"Menlo\", monospace;;\n",
       "    font-size: 13px;\n",
       "    color: #555;\n",
       "    margin-left: 4px;\n",
       "    line-height: 19px;\n",
       "  }\n",
       "</style>\n",
       "<div class=\"ansiout\">+-------+--------------------+---------+\n",
       "node_id|                name|node_type|\n",
       "+-------+--------------------+---------+\n",
       "      1|24-HOUR MAN/EMMANUEL|character|\n",
       "      2|3-D MAN/CHARLES CHAN|character|\n",
       "      3|    4-D MAN/MERCURIO|character|\n",
       "      4|             8-BALL/|character|\n",
       "      5|                   A|character|\n",
       "      6|               A&#39;YIN|character|\n",
       "      7|        ABBOTT, JACK|character|\n",
       "      8|             ABCISSA|character|\n",
       "      9|                ABEL|character|\n",
       "     10|ABOMINATION/EMIL BLO|character|\n",
       "+-------+--------------------+---------+\n",
       "only showing top 10 rows\n",
       "\n",
       "</div>"
      ]
     },
     "metadata": {
      "application/vnd.databricks.v1+output": {
       "addedWidgets": {},
       "arguments": {},
       "data": "<div class=\"ansiout\">+-------+--------------------+---------+\n|node_id|                name|node_type|\n+-------+--------------------+---------+\n|      1|24-HOUR MAN/EMMANUEL|character|\n|      2|3-D MAN/CHARLES CHAN|character|\n|      3|    4-D MAN/MERCURIO|character|\n|      4|             8-BALL/|character|\n|      5|                   A|character|\n|      6|               A&#39;YIN|character|\n|      7|        ABBOTT, JACK|character|\n|      8|             ABCISSA|character|\n|      9|                ABEL|character|\n|     10|ABOMINATION/EMIL BLO|character|\n+-------+--------------------+---------+\nonly showing top 10 rows\n\n</div>",
       "datasetInfos": [],
       "metadata": {},
       "removedWidgets": [],
       "type": "html"
      }
     },
     "output_type": "display_data"
    }
   ],
   "source": [
    "nodes_df.show(10)"
   ]
  },
  {
   "cell_type": "code",
   "execution_count": 0,
   "metadata": {
    "application/vnd.databricks.v1+cell": {
     "inputWidgets": {},
     "nuid": "704a5fc5-e409-4bc7-83ae-9b9d5bb0cc95",
     "showTitle": false,
     "title": ""
    }
   },
   "outputs": [
    {
     "data": {
      "text/html": [
       "<style scoped>\n",
       "  .ansiout {\n",
       "    display: block;\n",
       "    unicode-bidi: embed;\n",
       "    white-space: pre-wrap;\n",
       "    word-wrap: break-word;\n",
       "    word-break: break-all;\n",
       "    font-family: \"Source Code Pro\", \"Menlo\", monospace;;\n",
       "    font-size: 13px;\n",
       "    color: #555;\n",
       "    margin-left: 4px;\n",
       "    line-height: 19px;\n",
       "  }\n",
       "</style>\n",
       "<div class=\"ansiout\"></div>"
      ]
     },
     "metadata": {
      "application/vnd.databricks.v1+output": {
       "addedWidgets": {},
       "arguments": {},
       "data": "<div class=\"ansiout\"></div>",
       "datasetInfos": [],
       "metadata": {},
       "removedWidgets": [],
       "type": "html"
      }
     },
     "output_type": "display_data"
    }
   ],
   "source": [
    "analytics = spark.sql(\"\"\"select e.character as character_id, c.name as character, \n",
    "                      e.publication as publication_id, p.name as publication\n",
    "                      from edges_df e \n",
    "                      left join nodes_df c on e.character = c.node_id\n",
    "                      left join nodes_df p on e.publication = p.node_id\n",
    "                      \"\"\").cache()\n"
   ]
  },
  {
   "cell_type": "code",
   "execution_count": 0,
   "metadata": {
    "application/vnd.databricks.v1+cell": {
     "inputWidgets": {},
     "nuid": "f367cda8-9517-4327-9523-a726d4945a15",
     "showTitle": false,
     "title": ""
    }
   },
   "outputs": [
    {
     "data": {
      "text/html": [
       "<style scoped>\n",
       "  .ansiout {\n",
       "    display: block;\n",
       "    unicode-bidi: embed;\n",
       "    white-space: pre-wrap;\n",
       "    word-wrap: break-word;\n",
       "    word-break: break-all;\n",
       "    font-family: \"Source Code Pro\", \"Menlo\", monospace;;\n",
       "    font-size: 13px;\n",
       "    color: #555;\n",
       "    margin-left: 4px;\n",
       "    line-height: 19px;\n",
       "  }\n",
       "</style>\n",
       "<div class=\"ansiout\">+------------+--------------------+--------------+-----------+\n",
       "character_id|           character|publication_id|publication|\n",
       "+------------+--------------------+--------------+-----------+\n",
       "           1|24-HOUR MAN/EMMANUEL|          6487|     AA2 35|\n",
       "           2|3-D MAN/CHARLES CHAN|          6488|   M/PRM 35|\n",
       "           2|3-D MAN/CHARLES CHAN|          6489|   M/PRM 36|\n",
       "           2|3-D MAN/CHARLES CHAN|          6490|   M/PRM 37|\n",
       "           2|3-D MAN/CHARLES CHAN|          6491|      WI? 9|\n",
       "           2|3-D MAN/CHARLES CHAN|          6492|      AVF 4|\n",
       "           2|3-D MAN/CHARLES CHAN|          6493|      AVF 5|\n",
       "           2|3-D MAN/CHARLES CHAN|          6494|     H2 251|\n",
       "           2|3-D MAN/CHARLES CHAN|          6495|     H2 252|\n",
       "           2|3-D MAN/CHARLES CHAN|          6496|      COC 1|\n",
       "+------------+--------------------+--------------+-----------+\n",
       "only showing top 10 rows\n",
       "\n",
       "</div>"
      ]
     },
     "metadata": {
      "application/vnd.databricks.v1+output": {
       "addedWidgets": {},
       "arguments": {},
       "data": "<div class=\"ansiout\">+------------+--------------------+--------------+-----------+\n|character_id|           character|publication_id|publication|\n+------------+--------------------+--------------+-----------+\n|           1|24-HOUR MAN/EMMANUEL|          6487|     AA2 35|\n|           2|3-D MAN/CHARLES CHAN|          6488|   M/PRM 35|\n|           2|3-D MAN/CHARLES CHAN|          6489|   M/PRM 36|\n|           2|3-D MAN/CHARLES CHAN|          6490|   M/PRM 37|\n|           2|3-D MAN/CHARLES CHAN|          6491|      WI? 9|\n|           2|3-D MAN/CHARLES CHAN|          6492|      AVF 4|\n|           2|3-D MAN/CHARLES CHAN|          6493|      AVF 5|\n|           2|3-D MAN/CHARLES CHAN|          6494|     H2 251|\n|           2|3-D MAN/CHARLES CHAN|          6495|     H2 252|\n|           2|3-D MAN/CHARLES CHAN|          6496|      COC 1|\n+------------+--------------------+--------------+-----------+\nonly showing top 10 rows\n\n</div>",
       "datasetInfos": [],
       "metadata": {},
       "removedWidgets": [],
       "type": "html"
      }
     },
     "output_type": "display_data"
    }
   ],
   "source": [
    "analytics.show(10)"
   ]
  },
  {
   "cell_type": "markdown",
   "metadata": {
    "application/vnd.databricks.v1+cell": {
     "inputWidgets": {},
     "nuid": "e2446cd1-573e-4a9b-9fd5-d4d90fb63780",
     "showTitle": false,
     "title": ""
    }
   },
   "source": [
    "What are the top 10 publications with the highest number of characters?"
   ]
  },
  {
   "cell_type": "code",
   "execution_count": 0,
   "metadata": {
    "application/vnd.databricks.v1+cell": {
     "inputWidgets": {},
     "nuid": "383dbbcf-8179-48e6-9eb1-6af4fe8de198",
     "showTitle": false,
     "title": ""
    }
   },
   "outputs": [
    {
     "data": {
      "text/html": [
       "<style scoped>\n",
       "  .ansiout {\n",
       "    display: block;\n",
       "    unicode-bidi: embed;\n",
       "    white-space: pre-wrap;\n",
       "    word-wrap: break-word;\n",
       "    word-break: break-all;\n",
       "    font-family: \"Source Code Pro\", \"Menlo\", monospace;;\n",
       "    font-size: 13px;\n",
       "    color: #555;\n",
       "    margin-left: 4px;\n",
       "    line-height: 19px;\n",
       "  }\n",
       "</style>\n",
       "<div class=\"ansiout\">+--------------------+-------+\n",
       "         publication|char_ct|\n",
       "+--------------------+-------+\n",
       "               COC 1|    111|\n",
       "MARVEL MYSTERY COMIC|     92|\n",
       "                IW 3|     91|\n",
       "                IW 1|     90|\n",
       "              H2 279|     87|\n",
       "                IW 4|     80|\n",
       "                IW 2|     76|\n",
       "            MAXSEC 3|     72|\n",
       "              FF 370|     63|\n",
       "                IW 6|     60|\n",
       "+--------------------+-------+\n",
       "\n",
       "</div>"
      ]
     },
     "metadata": {
      "application/vnd.databricks.v1+output": {
       "addedWidgets": {},
       "arguments": {},
       "data": "<div class=\"ansiout\">+--------------------+-------+\n|         publication|char_ct|\n+--------------------+-------+\n|               COC 1|    111|\n|MARVEL MYSTERY COMIC|     92|\n|                IW 3|     91|\n|                IW 1|     90|\n|              H2 279|     87|\n|                IW 4|     80|\n|                IW 2|     76|\n|            MAXSEC 3|     72|\n|              FF 370|     63|\n|                IW 6|     60|\n+--------------------+-------+\n\n</div>",
       "datasetInfos": [],
       "metadata": {},
       "removedWidgets": [],
       "type": "html"
      }
     },
     "output_type": "display_data"
    }
   ],
   "source": [
    "analytics.createOrReplaceTempView(\"analytics\")\n",
    "spark.sql(\"\"\"select publication, count(*) as char_ct from analytics \n",
    "            group by publication order by char_ct desc limit 10\"\"\").show()"
   ]
  },
  {
   "cell_type": "markdown",
   "metadata": {
    "application/vnd.databricks.v1+cell": {
     "inputWidgets": {},
     "nuid": "5e1e172e-01ad-473b-abe4-1058b762299d",
     "showTitle": false,
     "title": ""
    }
   },
   "source": [
    "## Saving a DataFrame to a csv"
   ]
  },
  {
   "cell_type": "code",
   "execution_count": 0,
   "metadata": {
    "application/vnd.databricks.v1+cell": {
     "inputWidgets": {},
     "nuid": "83335f13-490d-4611-ae1a-302b7ae87488",
     "showTitle": false,
     "title": ""
    }
   },
   "outputs": [
    {
     "data": {
      "text/html": [
       "<style scoped>\n",
       "  .ansiout {\n",
       "    display: block;\n",
       "    unicode-bidi: embed;\n",
       "    white-space: pre-wrap;\n",
       "    word-wrap: break-word;\n",
       "    word-break: break-all;\n",
       "    font-family: \"Source Code Pro\", \"Menlo\", monospace;;\n",
       "    font-size: 13px;\n",
       "    color: #555;\n",
       "    margin-left: 4px;\n",
       "    line-height: 19px;\n",
       "  }\n",
       "</style>\n",
       "<div class=\"ansiout\"></div>"
      ]
     },
     "metadata": {
      "application/vnd.databricks.v1+output": {
       "addedWidgets": {},
       "arguments": {},
       "data": "<div class=\"ansiout\"></div>",
       "datasetInfos": [],
       "metadata": {},
       "removedWidgets": [],
       "type": "html"
      }
     },
     "output_type": "display_data"
    }
   ],
   "source": [
    "analytics.write\\\n",
    "    .format(\"com.databricks.spark.csv\")\\\n",
    "    .option(\"header\", \"true\")\\\n",
    "    .save(\"path-in-hdfs-or-cloud\")"
   ]
  },
  {
   "cell_type": "markdown",
   "metadata": {
    "application/vnd.databricks.v1+cell": {
     "inputWidgets": {},
     "nuid": "90e334d8-7bea-4115-a19c-83204b30d1dd",
     "showTitle": false,
     "title": ""
    }
   },
   "source": [
    "This lab is based on [https://vincentlauzon.com/2018/01/24/azure-databricks-spark-sql-data-frames/](https://vincentlauzon.com/2018/01/24/azure-databricks-spark-sql-data-frames/). You can see the code in that blog post to perform the same operations using RDD commands."
   ]
  }
 ],
 "metadata": {
  "application/vnd.databricks.v1+notebook": {
   "dashboards": [],
   "language": "python",
   "notebookMetadata": {
    "pythonIndentUnit": 2
   },
   "notebookName": "02-dataframe-api",
   "notebookOrigID": 2517867941646197,
   "widgets": {}
  },
  "kernelspec": {
   "display_name": "Python 3 (ipykernel)",
   "language": "python",
   "name": "python3"
  },
  "language_info": {
   "codemirror_mode": {
    "name": "ipython",
    "version": 3
   },
   "file_extension": ".py",
   "mimetype": "text/x-python",
   "name": "python",
   "nbconvert_exporter": "python",
   "pygments_lexer": "ipython3",
   "version": "3.9.7"
  }
 },
 "nbformat": 4,
 "nbformat_minor": 1
}
